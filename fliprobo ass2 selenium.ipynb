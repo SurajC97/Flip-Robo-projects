{
 "cells": [
  {
   "cell_type": "markdown",
   "metadata": {},
   "source": [
    "# Web scraping assignment- 2"
   ]
  },
  {
   "cell_type": "markdown",
   "metadata": {},
   "source": [
    "tasks:\n",
    "\n",
    "    Q1: Write a python program to scrape data for “Data Analyst” Job position in\n",
    "        “Bangalore” location. You have to scrape the job-title, job-location, company_name,\n",
    "        experience_required. You have to scrape first 10 jobs data.\n",
    "        \n",
    "    Q2: Write a python program to scrape data for “Data Scientist” Job position in\n",
    "        “Bangalore” location. You have to scrape the job-title, job-location,\n",
    "        company_name, full job-description. You have to scrape first 10 jobs data.\n",
    "        \n",
    "    Q3: In this question you have to scrape data using the filters available on the\n",
    "        webpage.\n",
    "        \n",
    "    Q4: Write a python program to scrape data for first 10 job results for Data scientist\n",
    "        Designation in Noida location. You have to scrape company_name, No. of days\n",
    "        ago when job was posted, Rating of the company.\n",
    "        \n",
    "    Q5: Write a python program to scrape the salary data for Data Scientist designation\n",
    "        in Noida location.\n",
    "        \n",
    "    Q6 : Scrape data of first 100 sunglasses listings on flipkart.com. You have to\n",
    "        scrape four attributes:\n",
    "        1. Brand\n",
    "        2. Product Description\n",
    "        3. Price\n",
    "        4. Discount %\n",
    "        \n",
    "    Q7: Scrape 100 reviews data from flipkart.com for iphone11 phone. You have to\n",
    "        go the link: https://www.flipkart.com/apple-iphone-11-black-64-gb-includesearpods-poweradapter/p/itm0f37c2240b217?pid=MOBFKCTSVZAXUHGR&lid=LSTMOBFKC\n",
    "        TSVZAXUHGREPBFGI&marketplace.\n",
    "        \n",
    "    Q8: Scrape data for first 100 sneakers you find when you visit flipkart.com and\n",
    "        search for “sneakers” in the search field.\n",
    "        You have to scrape 4 attributes of each sneaker :\n",
    "        1. Brand\n",
    "        2. Product Description\n",
    "        3. Price\n",
    "        4. discount %\n",
    "        \n",
    "    Q9: Go to the link - https://www.myntra.com/shoes\n",
    "        Set Price filter to “Rs. 6649 to Rs. 13099” , Color filter to “Black”, And then scrape First 100 shoes data you get.   \n",
    "        The data should include “Brand” of\n",
    "        the shoes , Short Shoe description, price of the shoe.\n",
    "        \n",
    "    Q10: Go to webpage https://www.amazon.in/ Enter “Laptop” in the search field and then click the search icon.\n",
    "         Then set CPU Type filter to “Intel Core i7” and “Intel Core i9”.After setting the filters scrape first 10 laptops\n",
    "         data. You have to scrape 3 attributes\n",
    "         for each laptop:\n",
    "         1. title\n",
    "         2. Ratings\n",
    "         3. Price"
   ]
  },
  {
   "cell_type": "code",
   "execution_count": 1,
   "metadata": {},
   "outputs": [],
   "source": [
    "# importing libraries\n",
    "\n",
    "import selenium\n",
    "import pandas as pd\n",
    "from selenium import webdriver\n",
    "import time\n",
    "from selenium.common.exceptions import NoSuchElementException"
   ]
  },
  {
   "cell_type": "code",
   "execution_count": 135,
   "metadata": {},
   "outputs": [],
   "source": [
    "# initializing the driver to a variable.\n",
    "\n",
    "driver= webdriver.Chrome('chromedriver.exe')"
   ]
  },
  {
   "cell_type": "markdown",
   "metadata": {},
   "source": [
    "# Task 1"
   ]
  },
  {
   "cell_type": "markdown",
   "metadata": {},
   "source": [
    "Q1:   Write a python program to scrape data for “Data Analyst” Job position in “Bangalore” location. You have to scrape the           job-title, job-location, company_name,experience_required. You have to scrape first 10 jobs data."
   ]
  },
  {
   "cell_type": "code",
   "execution_count": 3,
   "metadata": {},
   "outputs": [],
   "source": [
    "# opening required page on the browser.\n",
    "\n",
    "driver.get('https://www.naukri.com/')"
   ]
  },
  {
   "cell_type": "code",
   "execution_count": 4,
   "metadata": {},
   "outputs": [
    {
     "data": {
      "text/plain": [
       "<selenium.webdriver.remote.webelement.WebElement (session=\"bcb42411f23c4fd794c89341313a96b8\", element=\"d50da6f8-8e88-460a-84a2-208d7b97949f\")>"
      ]
     },
     "execution_count": 4,
     "metadata": {},
     "output_type": "execute_result"
    }
   ],
   "source": [
    "# finding element for search bar\n",
    "\n",
    "searchbar= driver.find_element_by_id('qsb-keyword-sugg')\n",
    "searchbar"
   ]
  },
  {
   "cell_type": "code",
   "execution_count": 5,
   "metadata": {},
   "outputs": [],
   "source": [
    "# writing on search bar\n",
    "\n",
    "searchbar.send_keys('Data Analyst')"
   ]
  },
  {
   "cell_type": "code",
   "execution_count": 6,
   "metadata": {},
   "outputs": [],
   "source": [
    "# finding element for job location bar and writing location.\n",
    "\n",
    "search_loc= driver.find_element_by_id('qsb-location-sugg')\n",
    "search_loc.send_keys('Bangalore')"
   ]
  },
  {
   "cell_type": "code",
   "execution_count": 7,
   "metadata": {},
   "outputs": [],
   "source": [
    "# finding element for search button.\n",
    "\n",
    "search_btn= driver.find_element_by_xpath(\"//button[@class='btn']\")"
   ]
  },
  {
   "cell_type": "code",
   "execution_count": 8,
   "metadata": {},
   "outputs": [],
   "source": [
    "# Clicking search button.\n",
    "\n",
    "search_btn.click()"
   ]
  },
  {
   "cell_type": "code",
   "execution_count": 9,
   "metadata": {},
   "outputs": [
    {
     "data": {
      "text/plain": [
       "[<selenium.webdriver.remote.webelement.WebElement (session=\"bcb42411f23c4fd794c89341313a96b8\", element=\"cf3c57ce-38d3-40eb-bf36-2d5261d8b127\")>,\n",
       " <selenium.webdriver.remote.webelement.WebElement (session=\"bcb42411f23c4fd794c89341313a96b8\", element=\"e9016357-1151-4901-b43b-f0a0c22406ce\")>,\n",
       " <selenium.webdriver.remote.webelement.WebElement (session=\"bcb42411f23c4fd794c89341313a96b8\", element=\"08b49664-f1c7-4384-8534-8a50f5baa57b\")>,\n",
       " <selenium.webdriver.remote.webelement.WebElement (session=\"bcb42411f23c4fd794c89341313a96b8\", element=\"10dd7e9a-44d3-43a3-a177-30c9b7d260b5\")>,\n",
       " <selenium.webdriver.remote.webelement.WebElement (session=\"bcb42411f23c4fd794c89341313a96b8\", element=\"e47b9ab3-afbc-46b7-bf03-38e291b9acc6\")>,\n",
       " <selenium.webdriver.remote.webelement.WebElement (session=\"bcb42411f23c4fd794c89341313a96b8\", element=\"7bba4616-316c-4148-b18e-6adb606f9af5\")>,\n",
       " <selenium.webdriver.remote.webelement.WebElement (session=\"bcb42411f23c4fd794c89341313a96b8\", element=\"45044957-004c-4535-b262-b370cda5a771\")>,\n",
       " <selenium.webdriver.remote.webelement.WebElement (session=\"bcb42411f23c4fd794c89341313a96b8\", element=\"f85388be-c012-4c26-adaa-f16f681b76db\")>,\n",
       " <selenium.webdriver.remote.webelement.WebElement (session=\"bcb42411f23c4fd794c89341313a96b8\", element=\"0fae2324-e032-4dde-ae41-fa236e7472c1\")>,\n",
       " <selenium.webdriver.remote.webelement.WebElement (session=\"bcb42411f23c4fd794c89341313a96b8\", element=\"668370b2-9614-4614-9fba-25a0e6bfb3a5\")>,\n",
       " <selenium.webdriver.remote.webelement.WebElement (session=\"bcb42411f23c4fd794c89341313a96b8\", element=\"d4422cea-4ce3-4b20-bc69-94b49e638687\")>,\n",
       " <selenium.webdriver.remote.webelement.WebElement (session=\"bcb42411f23c4fd794c89341313a96b8\", element=\"429237c7-9461-4e87-8e2e-e66cd4188a5f\")>,\n",
       " <selenium.webdriver.remote.webelement.WebElement (session=\"bcb42411f23c4fd794c89341313a96b8\", element=\"b38b8bf5-2ce7-4ad6-b804-ee33f0229f11\")>,\n",
       " <selenium.webdriver.remote.webelement.WebElement (session=\"bcb42411f23c4fd794c89341313a96b8\", element=\"f38ecef3-f5ff-4ecd-ab91-5c4f81d494b6\")>,\n",
       " <selenium.webdriver.remote.webelement.WebElement (session=\"bcb42411f23c4fd794c89341313a96b8\", element=\"32fda60d-dd4c-49ac-8c7c-e615df51768b\")>,\n",
       " <selenium.webdriver.remote.webelement.WebElement (session=\"bcb42411f23c4fd794c89341313a96b8\", element=\"f1aadb2c-c495-4242-bb0a-e7cbe27af51f\")>,\n",
       " <selenium.webdriver.remote.webelement.WebElement (session=\"bcb42411f23c4fd794c89341313a96b8\", element=\"dcb74a37-5a3e-4f26-a838-cfcae0c96f34\")>,\n",
       " <selenium.webdriver.remote.webelement.WebElement (session=\"bcb42411f23c4fd794c89341313a96b8\", element=\"c3424557-3cfd-4889-bf4d-f4199510d9cf\")>,\n",
       " <selenium.webdriver.remote.webelement.WebElement (session=\"bcb42411f23c4fd794c89341313a96b8\", element=\"63b9a223-f1ac-47b6-b1ad-16a6053cb4af\")>,\n",
       " <selenium.webdriver.remote.webelement.WebElement (session=\"bcb42411f23c4fd794c89341313a96b8\", element=\"c61981c0-4eb3-46fb-8912-262bad9d3a55\")>]"
      ]
     },
     "execution_count": 9,
     "metadata": {},
     "output_type": "execute_result"
    }
   ],
   "source": [
    "# Extracting job titles\n",
    "\n",
    "titles= driver.find_elements_by_xpath(\"//a[@class='title fw500 ellipsis']\")\n",
    "titles"
   ]
  },
  {
   "cell_type": "code",
   "execution_count": 12,
   "metadata": {},
   "outputs": [
    {
     "data": {
      "text/plain": [
       "['Data Scientist / Data Analyst -Business Analyst',\n",
       " 'Data Analyst',\n",
       " 'Hiring Data Analysts For E commerce Platform || WFH',\n",
       " 'Data Analyst',\n",
       " 'Data Analyst',\n",
       " 'DA - Urgent Opening For Data Analyst BFSI Domain - Pan India',\n",
       " 'Data Analyst',\n",
       " 'Assistant Vice President - MIS & Reporting ( Business Data Analyst)',\n",
       " 'Data Analyst',\n",
       " 'Data Analyst']"
      ]
     },
     "execution_count": 12,
     "metadata": {},
     "output_type": "execute_result"
    }
   ],
   "source": [
    "# Extracting the text\n",
    "\n",
    "job_titles=[]\n",
    "for i in titles:\n",
    "    job_titles.append(i.text)\n",
    "    \n",
    "job_titles= job_titles[0:10]\n",
    "job_titles"
   ]
  },
  {
   "cell_type": "code",
   "execution_count": 19,
   "metadata": {},
   "outputs": [
    {
     "data": {
      "text/plain": [
       "[<selenium.webdriver.remote.webelement.WebElement (session=\"bcb42411f23c4fd794c89341313a96b8\", element=\"14a8e36a-1481-4283-835b-e50a9ed23bff\")>,\n",
       " <selenium.webdriver.remote.webelement.WebElement (session=\"bcb42411f23c4fd794c89341313a96b8\", element=\"97de199f-a194-477f-b0f7-83a158b966c0\")>,\n",
       " <selenium.webdriver.remote.webelement.WebElement (session=\"bcb42411f23c4fd794c89341313a96b8\", element=\"45b51b71-a8b1-46ae-bb58-1b658938c773\")>,\n",
       " <selenium.webdriver.remote.webelement.WebElement (session=\"bcb42411f23c4fd794c89341313a96b8\", element=\"498be537-3992-4d6a-bb51-53f966010d5f\")>,\n",
       " <selenium.webdriver.remote.webelement.WebElement (session=\"bcb42411f23c4fd794c89341313a96b8\", element=\"5148b514-b9b0-4f09-874d-61ed34aeefde\")>,\n",
       " <selenium.webdriver.remote.webelement.WebElement (session=\"bcb42411f23c4fd794c89341313a96b8\", element=\"8d0066af-bf6b-48cd-9d55-b1e8906f2311\")>,\n",
       " <selenium.webdriver.remote.webelement.WebElement (session=\"bcb42411f23c4fd794c89341313a96b8\", element=\"dee1783b-b446-4170-9799-f1bfa677e4be\")>,\n",
       " <selenium.webdriver.remote.webelement.WebElement (session=\"bcb42411f23c4fd794c89341313a96b8\", element=\"f7bfa84a-b44d-4f64-bf6f-ccdb14c68157\")>,\n",
       " <selenium.webdriver.remote.webelement.WebElement (session=\"bcb42411f23c4fd794c89341313a96b8\", element=\"bcb4e74d-5540-4618-8701-8402b0d5adea\")>,\n",
       " <selenium.webdriver.remote.webelement.WebElement (session=\"bcb42411f23c4fd794c89341313a96b8\", element=\"567760cf-c5f9-4789-8a24-07d8e2be4be2\")>,\n",
       " <selenium.webdriver.remote.webelement.WebElement (session=\"bcb42411f23c4fd794c89341313a96b8\", element=\"ed4240a5-71bd-43bf-b0bd-fb0c8757a926\")>,\n",
       " <selenium.webdriver.remote.webelement.WebElement (session=\"bcb42411f23c4fd794c89341313a96b8\", element=\"b211cdcd-57c7-4019-bd32-b3cb842ecf7a\")>,\n",
       " <selenium.webdriver.remote.webelement.WebElement (session=\"bcb42411f23c4fd794c89341313a96b8\", element=\"81188e15-07d1-4aeb-b892-b601e5ca1df6\")>,\n",
       " <selenium.webdriver.remote.webelement.WebElement (session=\"bcb42411f23c4fd794c89341313a96b8\", element=\"0bb00fee-4a0b-44a5-89e3-cf0786f847f0\")>,\n",
       " <selenium.webdriver.remote.webelement.WebElement (session=\"bcb42411f23c4fd794c89341313a96b8\", element=\"cc1d5dfe-583d-4394-88a8-386fae5328e0\")>,\n",
       " <selenium.webdriver.remote.webelement.WebElement (session=\"bcb42411f23c4fd794c89341313a96b8\", element=\"a1a73a1a-6c83-400e-bc12-fb8967987b25\")>,\n",
       " <selenium.webdriver.remote.webelement.WebElement (session=\"bcb42411f23c4fd794c89341313a96b8\", element=\"0cc0e77a-8dff-4cc3-bedc-20fe518fb677\")>,\n",
       " <selenium.webdriver.remote.webelement.WebElement (session=\"bcb42411f23c4fd794c89341313a96b8\", element=\"58994ac8-c3d5-4175-9325-7e8c5ebf2843\")>,\n",
       " <selenium.webdriver.remote.webelement.WebElement (session=\"bcb42411f23c4fd794c89341313a96b8\", element=\"2031f6af-fafd-40c7-98f1-85febb6986ea\")>,\n",
       " <selenium.webdriver.remote.webelement.WebElement (session=\"bcb42411f23c4fd794c89341313a96b8\", element=\"edb7507a-86d1-4109-b170-fe9f1105032f\")>]"
      ]
     },
     "execution_count": 19,
     "metadata": {},
     "output_type": "execute_result"
    }
   ],
   "source": [
    "# Extracting job location\n",
    "\n",
    "location= driver.find_elements_by_xpath(\"//li[@class='fleft grey-text br2 placeHolderLi location']//span\")\n",
    "location"
   ]
  },
  {
   "cell_type": "code",
   "execution_count": 20,
   "metadata": {},
   "outputs": [
    {
     "data": {
      "text/plain": [
       "['Mumbai, Hyderabad/Secunderabad, Pune, Gurgaon/Gurugram, Chennai, Bangalore/Bengaluru',\n",
       " 'Bangalore/Bengaluru',\n",
       " 'Bangalore/Bengaluru',\n",
       " 'Bangalore/Bengaluru',\n",
       " 'Bangalore/Bengaluru',\n",
       " 'Kolkata, Hyderabad/Secunderabad, Pune, Ahmedabad, Chennai, Bangalore/Bengaluru, Delhi / NCR, Mumbai (All Areas)',\n",
       " 'Bangalore/Bengaluru',\n",
       " 'Mumbai, Bangalore/Bengaluru',\n",
       " 'Bangalore/Bengaluru',\n",
       " 'Bangalore/Bengaluru']"
      ]
     },
     "execution_count": 20,
     "metadata": {},
     "output_type": "execute_result"
    }
   ],
   "source": [
    "# Extracting the text\n",
    "\n",
    "job_location=[]\n",
    "for i in location:\n",
    "    job_location.append(i.text)\n",
    "    \n",
    "job_location= job_location[0:10]\n",
    "job_location"
   ]
  },
  {
   "cell_type": "code",
   "execution_count": 13,
   "metadata": {},
   "outputs": [
    {
     "data": {
      "text/plain": [
       "[<selenium.webdriver.remote.webelement.WebElement (session=\"bcb42411f23c4fd794c89341313a96b8\", element=\"7a6f1f86-27c7-4b5b-886e-2a375816153a\")>,\n",
       " <selenium.webdriver.remote.webelement.WebElement (session=\"bcb42411f23c4fd794c89341313a96b8\", element=\"b9760672-cdac-4609-ae4e-b92f0b8f8cb9\")>,\n",
       " <selenium.webdriver.remote.webelement.WebElement (session=\"bcb42411f23c4fd794c89341313a96b8\", element=\"5bc4d277-471b-4558-9293-23c938ea81e3\")>,\n",
       " <selenium.webdriver.remote.webelement.WebElement (session=\"bcb42411f23c4fd794c89341313a96b8\", element=\"9b678a1c-95a0-4b0a-9356-699f9791c4df\")>,\n",
       " <selenium.webdriver.remote.webelement.WebElement (session=\"bcb42411f23c4fd794c89341313a96b8\", element=\"cc41ef31-a1be-414a-a7d0-94c0dbc9a556\")>,\n",
       " <selenium.webdriver.remote.webelement.WebElement (session=\"bcb42411f23c4fd794c89341313a96b8\", element=\"44ab04cf-fcaf-4020-a6d6-84e796379890\")>,\n",
       " <selenium.webdriver.remote.webelement.WebElement (session=\"bcb42411f23c4fd794c89341313a96b8\", element=\"dbfdd480-54ab-4a64-b873-ad79e82806a7\")>,\n",
       " <selenium.webdriver.remote.webelement.WebElement (session=\"bcb42411f23c4fd794c89341313a96b8\", element=\"80350171-4b0b-48be-8e31-8b491b10e57a\")>,\n",
       " <selenium.webdriver.remote.webelement.WebElement (session=\"bcb42411f23c4fd794c89341313a96b8\", element=\"57531f1d-7a94-4cc8-b389-ef6ca23d25b7\")>,\n",
       " <selenium.webdriver.remote.webelement.WebElement (session=\"bcb42411f23c4fd794c89341313a96b8\", element=\"5666b218-2136-4b11-bec4-3ec4e1831a27\")>,\n",
       " <selenium.webdriver.remote.webelement.WebElement (session=\"bcb42411f23c4fd794c89341313a96b8\", element=\"044f47b5-d608-45e7-b40f-aa0611dc6b49\")>,\n",
       " <selenium.webdriver.remote.webelement.WebElement (session=\"bcb42411f23c4fd794c89341313a96b8\", element=\"d2816a17-49ed-4349-ba2a-fdf740393f11\")>,\n",
       " <selenium.webdriver.remote.webelement.WebElement (session=\"bcb42411f23c4fd794c89341313a96b8\", element=\"1b2695fd-23a4-4a46-b271-d73639f0b6ba\")>,\n",
       " <selenium.webdriver.remote.webelement.WebElement (session=\"bcb42411f23c4fd794c89341313a96b8\", element=\"3f356554-fe93-4040-a93d-09c769b1d5a6\")>,\n",
       " <selenium.webdriver.remote.webelement.WebElement (session=\"bcb42411f23c4fd794c89341313a96b8\", element=\"3757c019-f9cc-449f-a79f-2daf148fba9f\")>,\n",
       " <selenium.webdriver.remote.webelement.WebElement (session=\"bcb42411f23c4fd794c89341313a96b8\", element=\"022dfe9f-d135-4af4-b94f-7ac9b48f700e\")>,\n",
       " <selenium.webdriver.remote.webelement.WebElement (session=\"bcb42411f23c4fd794c89341313a96b8\", element=\"894fadb4-65d7-4b28-87f5-4cd59e811c09\")>,\n",
       " <selenium.webdriver.remote.webelement.WebElement (session=\"bcb42411f23c4fd794c89341313a96b8\", element=\"67e32a82-3eda-4c39-a216-57f7e54cc253\")>,\n",
       " <selenium.webdriver.remote.webelement.WebElement (session=\"bcb42411f23c4fd794c89341313a96b8\", element=\"4d20a1de-3d2a-4eae-b017-b0cc7619542a\")>,\n",
       " <selenium.webdriver.remote.webelement.WebElement (session=\"bcb42411f23c4fd794c89341313a96b8\", element=\"1a0baa94-0ceb-431d-82b5-bd164c69522b\")>]"
      ]
     },
     "execution_count": 13,
     "metadata": {},
     "output_type": "execute_result"
    }
   ],
   "source": [
    "# Extracting company names\n",
    "\n",
    "companies= driver.find_elements_by_xpath(\"//a[@class='subTitle ellipsis fleft']\")\n",
    "companies"
   ]
  },
  {
   "cell_type": "code",
   "execution_count": 14,
   "metadata": {},
   "outputs": [
    {
     "data": {
      "text/plain": [
       "['Inflexion Analytix Private Limited',\n",
       " 'GlaxoSmithKline Pharmaceuticals Limited',\n",
       " 'Allegis Services India Pvt. Ltd.',\n",
       " 'Shell India Markets Private Limited',\n",
       " 'Applied Materials',\n",
       " 'Tata Consultancy Services Ltd.',\n",
       " 'Shell India Markets Private Limited',\n",
       " 'INTERTRUSTVITEOS CORPORATE AND FUND SERVICES PVT. LTD.',\n",
       " 'Myntra Designs Pvt. Ltd.',\n",
       " 'Myntra Designs Pvt. Ltd.']"
      ]
     },
     "execution_count": 14,
     "metadata": {},
     "output_type": "execute_result"
    }
   ],
   "source": [
    "# Extracting the text\n",
    "\n",
    "job_company=[]\n",
    "for i in companies:\n",
    "    job_company.append(i.text)\n",
    "    \n",
    "job_company= job_company[0:10]\n",
    "job_company"
   ]
  },
  {
   "cell_type": "code",
   "execution_count": 15,
   "metadata": {},
   "outputs": [
    {
     "data": {
      "text/plain": [
       "[<selenium.webdriver.remote.webelement.WebElement (session=\"bcb42411f23c4fd794c89341313a96b8\", element=\"bbb163a5-cb7d-4db3-92b6-83c7960bbb62\")>,\n",
       " <selenium.webdriver.remote.webelement.WebElement (session=\"bcb42411f23c4fd794c89341313a96b8\", element=\"a2564304-fd0a-4217-950b-bd6ee5fa09ea\")>,\n",
       " <selenium.webdriver.remote.webelement.WebElement (session=\"bcb42411f23c4fd794c89341313a96b8\", element=\"92c1bf14-1ee9-4102-8a86-dbc903ecc46d\")>,\n",
       " <selenium.webdriver.remote.webelement.WebElement (session=\"bcb42411f23c4fd794c89341313a96b8\", element=\"f586c858-22ab-4411-b453-7ffafbd5c0ca\")>,\n",
       " <selenium.webdriver.remote.webelement.WebElement (session=\"bcb42411f23c4fd794c89341313a96b8\", element=\"cd68d8c4-70d7-46d4-815a-fdfae0f1c861\")>,\n",
       " <selenium.webdriver.remote.webelement.WebElement (session=\"bcb42411f23c4fd794c89341313a96b8\", element=\"241dc1d9-f35f-44b0-8966-c1ccdabe15aa\")>,\n",
       " <selenium.webdriver.remote.webelement.WebElement (session=\"bcb42411f23c4fd794c89341313a96b8\", element=\"2b225ae1-28a6-44da-b1d5-d6f98e113266\")>,\n",
       " <selenium.webdriver.remote.webelement.WebElement (session=\"bcb42411f23c4fd794c89341313a96b8\", element=\"f04f3c3a-2a30-4818-a607-e4e37da7e4c2\")>,\n",
       " <selenium.webdriver.remote.webelement.WebElement (session=\"bcb42411f23c4fd794c89341313a96b8\", element=\"28d75b0b-2d93-4171-ac82-fa4f154ffbc1\")>,\n",
       " <selenium.webdriver.remote.webelement.WebElement (session=\"bcb42411f23c4fd794c89341313a96b8\", element=\"a573dd67-229c-4b85-a9f1-a6239588fe3f\")>,\n",
       " <selenium.webdriver.remote.webelement.WebElement (session=\"bcb42411f23c4fd794c89341313a96b8\", element=\"4a4db5e1-006d-497a-9a3c-abb410209567\")>,\n",
       " <selenium.webdriver.remote.webelement.WebElement (session=\"bcb42411f23c4fd794c89341313a96b8\", element=\"18f84486-5933-4676-a64d-4d4c79497e82\")>,\n",
       " <selenium.webdriver.remote.webelement.WebElement (session=\"bcb42411f23c4fd794c89341313a96b8\", element=\"5a994821-53e5-4c87-8093-aa3ae7eef5d7\")>,\n",
       " <selenium.webdriver.remote.webelement.WebElement (session=\"bcb42411f23c4fd794c89341313a96b8\", element=\"1e90e61a-d0f3-40a3-b859-ff5771ed0bb1\")>,\n",
       " <selenium.webdriver.remote.webelement.WebElement (session=\"bcb42411f23c4fd794c89341313a96b8\", element=\"681d81b1-4f9e-48a2-9354-6fe20c6cdb55\")>,\n",
       " <selenium.webdriver.remote.webelement.WebElement (session=\"bcb42411f23c4fd794c89341313a96b8\", element=\"8d611881-8c52-423b-9985-5a1279920402\")>,\n",
       " <selenium.webdriver.remote.webelement.WebElement (session=\"bcb42411f23c4fd794c89341313a96b8\", element=\"a2700e25-f558-4e22-a664-817cfd3c1472\")>,\n",
       " <selenium.webdriver.remote.webelement.WebElement (session=\"bcb42411f23c4fd794c89341313a96b8\", element=\"c4059462-d174-47f8-a872-6bb195d96138\")>,\n",
       " <selenium.webdriver.remote.webelement.WebElement (session=\"bcb42411f23c4fd794c89341313a96b8\", element=\"051270aa-94d9-4111-b38e-917065a338e3\")>,\n",
       " <selenium.webdriver.remote.webelement.WebElement (session=\"bcb42411f23c4fd794c89341313a96b8\", element=\"f686cc22-01d6-4a67-8e46-56271d6ba17e\")>]"
      ]
     },
     "execution_count": 15,
     "metadata": {},
     "output_type": "execute_result"
    }
   ],
   "source": [
    "# Extracting experience required\n",
    "\n",
    "exp= driver.find_elements_by_xpath(\"//li[@class='fleft grey-text br2 placeHolderLi experience']//span\")  \n",
    "exp"
   ]
  },
  {
   "cell_type": "code",
   "execution_count": 16,
   "metadata": {},
   "outputs": [
    {
     "data": {
      "text/plain": [
       "['0-3 Yrs',\n",
       " '0-2 Yrs',\n",
       " '0-5 Yrs',\n",
       " '5-8 Yrs',\n",
       " '7-10 Yrs',\n",
       " '4-9 Yrs',\n",
       " '5-8 Yrs',\n",
       " '12-18 Yrs',\n",
       " '3-6 Yrs',\n",
       " '3-6 Yrs']"
      ]
     },
     "execution_count": 16,
     "metadata": {},
     "output_type": "execute_result"
    }
   ],
   "source": [
    "exp_list=[]\n",
    "for i in exp:\n",
    "    exp_list.append(i.text)\n",
    "    \n",
    "exp_list= exp_list[0:10]\n",
    "exp_list"
   ]
  },
  {
   "cell_type": "code",
   "execution_count": 22,
   "metadata": {},
   "outputs": [
    {
     "data": {
      "text/html": [
       "<div>\n",
       "<style scoped>\n",
       "    .dataframe tbody tr th:only-of-type {\n",
       "        vertical-align: middle;\n",
       "    }\n",
       "\n",
       "    .dataframe tbody tr th {\n",
       "        vertical-align: top;\n",
       "    }\n",
       "\n",
       "    .dataframe thead th {\n",
       "        text-align: right;\n",
       "    }\n",
       "</style>\n",
       "<table border=\"1\" class=\"dataframe\">\n",
       "  <thead>\n",
       "    <tr style=\"text-align: right;\">\n",
       "      <th></th>\n",
       "      <th>Job_titles</th>\n",
       "      <th>Location</th>\n",
       "      <th>Company</th>\n",
       "      <th>Experience</th>\n",
       "    </tr>\n",
       "  </thead>\n",
       "  <tbody>\n",
       "    <tr>\n",
       "      <th>0</th>\n",
       "      <td>Data Scientist / Data Analyst -Business Analyst</td>\n",
       "      <td>Mumbai, Hyderabad/Secunderabad, Pune, Gurgaon/...</td>\n",
       "      <td>Inflexion Analytix Private Limited</td>\n",
       "      <td>0-3 Yrs</td>\n",
       "    </tr>\n",
       "    <tr>\n",
       "      <th>1</th>\n",
       "      <td>Data Analyst</td>\n",
       "      <td>Bangalore/Bengaluru</td>\n",
       "      <td>GlaxoSmithKline Pharmaceuticals Limited</td>\n",
       "      <td>0-2 Yrs</td>\n",
       "    </tr>\n",
       "    <tr>\n",
       "      <th>2</th>\n",
       "      <td>Hiring Data Analysts For E commerce Platform |...</td>\n",
       "      <td>Bangalore/Bengaluru</td>\n",
       "      <td>Allegis Services India Pvt. Ltd.</td>\n",
       "      <td>0-5 Yrs</td>\n",
       "    </tr>\n",
       "    <tr>\n",
       "      <th>3</th>\n",
       "      <td>Data Analyst</td>\n",
       "      <td>Bangalore/Bengaluru</td>\n",
       "      <td>Shell India Markets Private Limited</td>\n",
       "      <td>5-8 Yrs</td>\n",
       "    </tr>\n",
       "    <tr>\n",
       "      <th>4</th>\n",
       "      <td>Data Analyst</td>\n",
       "      <td>Bangalore/Bengaluru</td>\n",
       "      <td>Applied Materials</td>\n",
       "      <td>7-10 Yrs</td>\n",
       "    </tr>\n",
       "    <tr>\n",
       "      <th>5</th>\n",
       "      <td>DA - Urgent Opening For Data Analyst BFSI Doma...</td>\n",
       "      <td>Kolkata, Hyderabad/Secunderabad, Pune, Ahmedab...</td>\n",
       "      <td>Tata Consultancy Services Ltd.</td>\n",
       "      <td>4-9 Yrs</td>\n",
       "    </tr>\n",
       "    <tr>\n",
       "      <th>6</th>\n",
       "      <td>Data Analyst</td>\n",
       "      <td>Bangalore/Bengaluru</td>\n",
       "      <td>Shell India Markets Private Limited</td>\n",
       "      <td>5-8 Yrs</td>\n",
       "    </tr>\n",
       "    <tr>\n",
       "      <th>7</th>\n",
       "      <td>Assistant Vice President - MIS &amp; Reporting ( B...</td>\n",
       "      <td>Mumbai, Bangalore/Bengaluru</td>\n",
       "      <td>INTERTRUSTVITEOS CORPORATE AND FUND SERVICES P...</td>\n",
       "      <td>12-18 Yrs</td>\n",
       "    </tr>\n",
       "    <tr>\n",
       "      <th>8</th>\n",
       "      <td>Data Analyst</td>\n",
       "      <td>Bangalore/Bengaluru</td>\n",
       "      <td>Myntra Designs Pvt. Ltd.</td>\n",
       "      <td>3-6 Yrs</td>\n",
       "    </tr>\n",
       "    <tr>\n",
       "      <th>9</th>\n",
       "      <td>Data Analyst</td>\n",
       "      <td>Bangalore/Bengaluru</td>\n",
       "      <td>Myntra Designs Pvt. Ltd.</td>\n",
       "      <td>3-6 Yrs</td>\n",
       "    </tr>\n",
       "  </tbody>\n",
       "</table>\n",
       "</div>"
      ],
      "text/plain": [
       "                                          Job_titles  \\\n",
       "0    Data Scientist / Data Analyst -Business Analyst   \n",
       "1                                       Data Analyst   \n",
       "2  Hiring Data Analysts For E commerce Platform |...   \n",
       "3                                       Data Analyst   \n",
       "4                                       Data Analyst   \n",
       "5  DA - Urgent Opening For Data Analyst BFSI Doma...   \n",
       "6                                       Data Analyst   \n",
       "7  Assistant Vice President - MIS & Reporting ( B...   \n",
       "8                                       Data Analyst   \n",
       "9                                       Data Analyst   \n",
       "\n",
       "                                            Location  \\\n",
       "0  Mumbai, Hyderabad/Secunderabad, Pune, Gurgaon/...   \n",
       "1                                Bangalore/Bengaluru   \n",
       "2                                Bangalore/Bengaluru   \n",
       "3                                Bangalore/Bengaluru   \n",
       "4                                Bangalore/Bengaluru   \n",
       "5  Kolkata, Hyderabad/Secunderabad, Pune, Ahmedab...   \n",
       "6                                Bangalore/Bengaluru   \n",
       "7                        Mumbai, Bangalore/Bengaluru   \n",
       "8                                Bangalore/Bengaluru   \n",
       "9                                Bangalore/Bengaluru   \n",
       "\n",
       "                                             Company Experience  \n",
       "0                 Inflexion Analytix Private Limited    0-3 Yrs  \n",
       "1            GlaxoSmithKline Pharmaceuticals Limited    0-2 Yrs  \n",
       "2                   Allegis Services India Pvt. Ltd.    0-5 Yrs  \n",
       "3                Shell India Markets Private Limited    5-8 Yrs  \n",
       "4                                  Applied Materials   7-10 Yrs  \n",
       "5                     Tata Consultancy Services Ltd.    4-9 Yrs  \n",
       "6                Shell India Markets Private Limited    5-8 Yrs  \n",
       "7  INTERTRUSTVITEOS CORPORATE AND FUND SERVICES P...  12-18 Yrs  \n",
       "8                           Myntra Designs Pvt. Ltd.    3-6 Yrs  \n",
       "9                           Myntra Designs Pvt. Ltd.    3-6 Yrs  "
      ]
     },
     "execution_count": 22,
     "metadata": {},
     "output_type": "execute_result"
    }
   ],
   "source": [
    "# Creating dataframe\n",
    "\n",
    "x= {'Job_titles':job_titles,'Location': job_location,'Company': job_company, 'Experience': exp_list}\n",
    "df1= pd.DataFrame(x)\n",
    "df1"
   ]
  },
  {
   "cell_type": "markdown",
   "metadata": {},
   "source": [
    "# Task 2"
   ]
  },
  {
   "cell_type": "markdown",
   "metadata": {},
   "source": [
    "Q2: Write a python program to scrape data for “Data Scientist” Job position in\n",
    "    “Bangalore” location. You have to scrape the job-title, job-location,\n",
    "    company_name, full job-description. You have to scrape first 10 jobs data."
   ]
  },
  {
   "cell_type": "code",
   "execution_count": 136,
   "metadata": {},
   "outputs": [],
   "source": [
    "# filling the website location into our driver\n",
    "\n",
    "driver.get('https://www.naukri.com/')"
   ]
  },
  {
   "cell_type": "code",
   "execution_count": 137,
   "metadata": {},
   "outputs": [],
   "source": [
    "# finding element for search bar and writing in it.\n",
    "\n",
    "search_bar= driver.find_element_by_id('qsb-keyword-sugg')\n",
    "search_bar.send_keys('Data Scientist')"
   ]
  },
  {
   "cell_type": "code",
   "execution_count": 138,
   "metadata": {},
   "outputs": [],
   "source": [
    "# finding element for job location bar and writing location.\n",
    "\n",
    "search_loc= driver.find_element_by_id('qsb-location-sugg')\n",
    "search_loc.send_keys('Bangalore')"
   ]
  },
  {
   "cell_type": "code",
   "execution_count": 139,
   "metadata": {},
   "outputs": [],
   "source": [
    "# finding element for search button and clicking on it.\n",
    "\n",
    "search_btnn= driver.find_element_by_class_name('btn')\n",
    "search_btnn.click()"
   ]
  },
  {
   "cell_type": "code",
   "execution_count": 140,
   "metadata": {},
   "outputs": [],
   "source": [
    "# Fetching urls of individual pages.\n",
    "\n",
    "urls=[]\n",
    "for i in driver.find_elements_by_xpath(\"//a[@class='title fw500 ellipsis']\"):\n",
    "    urls.append(i.get_attribute('href'))"
   ]
  },
  {
   "cell_type": "code",
   "execution_count": 141,
   "metadata": {},
   "outputs": [],
   "source": [
    "# keeping the top 10 urls\n",
    "\n",
    "urls= urls[0:10]"
   ]
  },
  {
   "cell_type": "code",
   "execution_count": 114,
   "metadata": {},
   "outputs": [],
   "source": [
    "# creating lists to store data\n",
    "\n",
    "Job_titles=[]\n",
    "Location=[]\n",
    "Company=[]\n",
    "Description=[]"
   ]
  },
  {
   "cell_type": "code",
   "execution_count": 115,
   "metadata": {},
   "outputs": [],
   "source": [
    "# Finding elements for all the job details and fetching them.\n",
    "\n",
    "for i in urls:\n",
    "    driver.get(i)\n",
    "    time.sleep(3)\n",
    "    try:\n",
    "        j= driver.find_element_by_xpath(\"//h1[@class='jd-header-title']\")\n",
    "        Job_titles.append(j.text)\n",
    "    except NoSuchElementException:\n",
    "        Job_titles.append('NaN')\n",
    "        \n",
    "    try:\n",
    "        l= driver.find_element_by_xpath(\"//span[@class='location ']\")\n",
    "        Location.append(l.text)\n",
    "    except NoSuchElementException:\n",
    "        Location.append('NaN')\n",
    "        \n",
    "    try:\n",
    "        c= driver.find_element_by_xpath(\"//a[@class='pad-rt-8']\")\n",
    "        Company.append(c.text)\n",
    "    except NoSuchElementException:\n",
    "        Company.append('NaN')\n",
    "        \n",
    "    try:\n",
    "        d= driver.find_element_by_xpath(\"//section[@class='job-desc']\")\n",
    "        Description.append(d.text)\n",
    "    except NoSuchElementException:\n",
    "        Description.append('NaN')"
   ]
  },
  {
   "cell_type": "code",
   "execution_count": 116,
   "metadata": {},
   "outputs": [
    {
     "data": {
      "text/plain": [
       "['Data Scientist / Data Analyst -Business Analyst',\n",
       " 'Senior Data Scientist, Modeling',\n",
       " 'NaN',\n",
       " 'NaN',\n",
       " 'Senior Data Scientist - Credit risk',\n",
       " 'NaN',\n",
       " 'Specialist I - Data Scientist',\n",
       " 'NaN',\n",
       " 'Lead Data Scientist',\n",
       " 'Hiring For DATA Scientist - ON Contract Basis (3-6 Months)']"
      ]
     },
     "execution_count": 116,
     "metadata": {},
     "output_type": "execute_result"
    }
   ],
   "source": [
    "# Page orientation is different for NaN values.\n",
    "\n",
    "Job_titles"
   ]
  },
  {
   "cell_type": "code",
   "execution_count": 118,
   "metadata": {},
   "outputs": [
    {
     "data": {
      "text/plain": [
       "['Inflexion Analytix Private Limited',\n",
       " 'Nielsen',\n",
       " 'NaN',\n",
       " 'NaN',\n",
       " 'Scienaptic Systems',\n",
       " 'NaN',\n",
       " 'Philips India Limited',\n",
       " 'NaN',\n",
       " 'Intel Technology India Pvt Ltd',\n",
       " 'GlobalEdx Learning and Technology Solution Pvt Ltd']"
      ]
     },
     "execution_count": 118,
     "metadata": {},
     "output_type": "execute_result"
    }
   ],
   "source": [
    "Company"
   ]
  },
  {
   "cell_type": "code",
   "execution_count": 119,
   "metadata": {},
   "outputs": [],
   "source": [
    "# Removing NaN values.\n",
    "\n",
    "title1= [x for x in Job_titles if x != 'NaN']\n",
    "loc11 = [x for x in Location if x != 'NaN']\n",
    "company1 =[x for x in Company if x != 'NaN']\n",
    "desc1= [x for x in Description if x != 'NaN']"
   ]
  },
  {
   "cell_type": "code",
   "execution_count": 142,
   "metadata": {},
   "outputs": [],
   "source": [
    "# creating lists to store data\n",
    "\n",
    "title2=[]\n",
    "loc2=[]\n",
    "company2=[]\n",
    "desc2=[]"
   ]
  },
  {
   "cell_type": "code",
   "execution_count": 143,
   "metadata": {},
   "outputs": [],
   "source": [
    "# Finding elements for remaining job details with different orientation and fetching them.\n",
    "\n",
    "for i in urls:\n",
    "    driver.get(i)\n",
    "    time.sleep(3)\n",
    "    try:\n",
    "        j= driver.find_element_by_xpath(\"//h1[@class='av-special-heading-tag ']\")\n",
    "        title2.append(j.text)\n",
    "    except NoSuchElementException:\n",
    "        title2.append('NaN')\n",
    "        \n",
    "    try:\n",
    "        l= driver.find_element_by_xpath(\"//a[@class='cityLinks']\")\n",
    "        loc2.append(l.text)\n",
    "    except NoSuchElementException:\n",
    "        loc2.append('NaN')\n",
    "        \n",
    "    try:\n",
    "        c= driver.find_element_by_xpath(\"//p[@class='cpName f14']\")\n",
    "        company2.append(c.text)\n",
    "    except NoSuchElementException:\n",
    "        company2.append('NaN')\n",
    "        \n",
    "    try:\n",
    "        d= driver.find_element_by_xpath(\"//div[@class='clearboth description']\")\n",
    "        desc2.append(d.text.replace('\\n',''))\n",
    "    except NoSuchElementException:\n",
    "        desc2.append('NaN')"
   ]
  },
  {
   "cell_type": "code",
   "execution_count": 144,
   "metadata": {},
   "outputs": [],
   "source": [
    "# Removing NaN values.\n",
    "\n",
    "title2= [x for x in title2 if x != 'NaN']\n",
    "loc2 = [x for x in loc2 if x != 'NaN']\n",
    "company2 =[x for x in company2 if x != 'NaN']\n",
    "desc2= [x for x in desc2 if x != 'NaN']"
   ]
  },
  {
   "cell_type": "code",
   "execution_count": 145,
   "metadata": {},
   "outputs": [],
   "source": [
    "# Merging the lists of same category\n",
    "\n",
    "all_title= title1+ title2\n",
    "all_loc= loc11+ loc2\n",
    "all_com= company1+ company2\n",
    "all_desc= desc1+ desc2"
   ]
  },
  {
   "cell_type": "code",
   "execution_count": 146,
   "metadata": {},
   "outputs": [
    {
     "data": {
      "text/html": [
       "<div>\n",
       "<style scoped>\n",
       "    .dataframe tbody tr th:only-of-type {\n",
       "        vertical-align: middle;\n",
       "    }\n",
       "\n",
       "    .dataframe tbody tr th {\n",
       "        vertical-align: top;\n",
       "    }\n",
       "\n",
       "    .dataframe thead th {\n",
       "        text-align: right;\n",
       "    }\n",
       "</style>\n",
       "<table border=\"1\" class=\"dataframe\">\n",
       "  <thead>\n",
       "    <tr style=\"text-align: right;\">\n",
       "      <th></th>\n",
       "      <th>Job_titles</th>\n",
       "      <th>Location</th>\n",
       "      <th>Company</th>\n",
       "      <th>Description</th>\n",
       "    </tr>\n",
       "  </thead>\n",
       "  <tbody>\n",
       "    <tr>\n",
       "      <th>0</th>\n",
       "      <td>Data Scientist / Data Analyst -Business Analyst</td>\n",
       "      <td>Mumbai, Hyderabad/Secunderabad, Pune, Gurgaon/...</td>\n",
       "      <td>Inflexion Analytix Private Limited</td>\n",
       "      <td>Job description\\nJob Role : Data Scientist/Dat...</td>\n",
       "    </tr>\n",
       "    <tr>\n",
       "      <th>1</th>\n",
       "      <td>Senior Data Scientist, Modeling</td>\n",
       "      <td>Kolkata, Gurgaon/Gurugram, Bangalore/Bengaluru...</td>\n",
       "      <td>Nielsen</td>\n",
       "      <td>Job description\\nWe wont say we can predict th...</td>\n",
       "    </tr>\n",
       "    <tr>\n",
       "      <th>2</th>\n",
       "      <td>Senior Data Scientist - Credit risk</td>\n",
       "      <td>Bangalore/Bengaluru</td>\n",
       "      <td>Scienaptic Systems</td>\n",
       "      <td>Job description\\n\\nResponsibilities and duties...</td>\n",
       "    </tr>\n",
       "    <tr>\n",
       "      <th>3</th>\n",
       "      <td>Specialist I - Data Scientist</td>\n",
       "      <td>Bangalore/Bengaluru</td>\n",
       "      <td>Philips India Limited</td>\n",
       "      <td>Job description\\nResponsibilities and Key Resu...</td>\n",
       "    </tr>\n",
       "    <tr>\n",
       "      <th>4</th>\n",
       "      <td>Lead Data Scientist</td>\n",
       "      <td>Bangalore/Bengaluru</td>\n",
       "      <td>Intel Technology India Pvt Ltd</td>\n",
       "      <td>Job description\\n\\n\\nWe are seeking an outstan...</td>\n",
       "    </tr>\n",
       "    <tr>\n",
       "      <th>5</th>\n",
       "      <td>Hiring For DATA Scientist - ON Contract Basis ...</td>\n",
       "      <td>Hyderabad/Secunderabad, Bangalore/Bengaluru, M...</td>\n",
       "      <td>GlobalEdx Learning and Technology Solution Pvt...</td>\n",
       "      <td>Job description\\nDear Aspirant,\\n\\nGreetings f...</td>\n",
       "    </tr>\n",
       "    <tr>\n",
       "      <th>6</th>\n",
       "      <td>DATA SCIENTIST – IBM GARAGE</td>\n",
       "      <td>Noida</td>\n",
       "      <td>IBM India Pvt. Limited</td>\n",
       "      <td>As a Data Scientist in the IBM Garage team you...</td>\n",
       "    </tr>\n",
       "    <tr>\n",
       "      <th>7</th>\n",
       "      <td>DATA SCIENTIST</td>\n",
       "      <td>Noida</td>\n",
       "      <td>IBM India Pvt. Limited</td>\n",
       "      <td>IntroductionAs a Data Scientist at IBM, you wi...</td>\n",
       "    </tr>\n",
       "    <tr>\n",
       "      <th>8</th>\n",
       "      <td>BIG DATA – DATA SCIENTIST</td>\n",
       "      <td>Kochi/Cochin</td>\n",
       "      <td>Xoriant Solutions Pvt Ltd</td>\n",
       "      <td>Roles &amp; Responsibilities &amp; Key Skills:Big Data...</td>\n",
       "    </tr>\n",
       "    <tr>\n",
       "      <th>9</th>\n",
       "      <td>DATA SCIENTIST</td>\n",
       "      <td>Bangalore/Bengaluru</td>\n",
       "      <td>IBM India Pvt. Limited</td>\n",
       "      <td>The Data Warehousing Practitioner actively par...</td>\n",
       "    </tr>\n",
       "  </tbody>\n",
       "</table>\n",
       "</div>"
      ],
      "text/plain": [
       "                                          Job_titles  \\\n",
       "0    Data Scientist / Data Analyst -Business Analyst   \n",
       "1                    Senior Data Scientist, Modeling   \n",
       "2                Senior Data Scientist - Credit risk   \n",
       "3                      Specialist I - Data Scientist   \n",
       "4                                Lead Data Scientist   \n",
       "5  Hiring For DATA Scientist - ON Contract Basis ...   \n",
       "6                        DATA SCIENTIST – IBM GARAGE   \n",
       "7                                     DATA SCIENTIST   \n",
       "8                          BIG DATA – DATA SCIENTIST   \n",
       "9                                     DATA SCIENTIST   \n",
       "\n",
       "                                            Location  \\\n",
       "0  Mumbai, Hyderabad/Secunderabad, Pune, Gurgaon/...   \n",
       "1  Kolkata, Gurgaon/Gurugram, Bangalore/Bengaluru...   \n",
       "2                                Bangalore/Bengaluru   \n",
       "3                                Bangalore/Bengaluru   \n",
       "4                                Bangalore/Bengaluru   \n",
       "5  Hyderabad/Secunderabad, Bangalore/Bengaluru, M...   \n",
       "6                                              Noida   \n",
       "7                                              Noida   \n",
       "8                                       Kochi/Cochin   \n",
       "9                                Bangalore/Bengaluru   \n",
       "\n",
       "                                             Company  \\\n",
       "0                 Inflexion Analytix Private Limited   \n",
       "1                                            Nielsen   \n",
       "2                                 Scienaptic Systems   \n",
       "3                              Philips India Limited   \n",
       "4                     Intel Technology India Pvt Ltd   \n",
       "5  GlobalEdx Learning and Technology Solution Pvt...   \n",
       "6                             IBM India Pvt. Limited   \n",
       "7                             IBM India Pvt. Limited   \n",
       "8                          Xoriant Solutions Pvt Ltd   \n",
       "9                             IBM India Pvt. Limited   \n",
       "\n",
       "                                         Description  \n",
       "0  Job description\\nJob Role : Data Scientist/Dat...  \n",
       "1  Job description\\nWe wont say we can predict th...  \n",
       "2  Job description\\n\\nResponsibilities and duties...  \n",
       "3  Job description\\nResponsibilities and Key Resu...  \n",
       "4  Job description\\n\\n\\nWe are seeking an outstan...  \n",
       "5  Job description\\nDear Aspirant,\\n\\nGreetings f...  \n",
       "6  As a Data Scientist in the IBM Garage team you...  \n",
       "7  IntroductionAs a Data Scientist at IBM, you wi...  \n",
       "8  Roles & Responsibilities & Key Skills:Big Data...  \n",
       "9  The Data Warehousing Practitioner actively par...  "
      ]
     },
     "execution_count": 146,
     "metadata": {},
     "output_type": "execute_result"
    }
   ],
   "source": [
    "# Creating dataframe\n",
    "\n",
    "x= {'Job_titles':all_title,'Location': all_loc,'Company': all_com, 'Description': all_desc}\n",
    "df2= pd.DataFrame(x)\n",
    "df2"
   ]
  },
  {
   "cell_type": "markdown",
   "metadata": {},
   "source": [
    "# Task 3"
   ]
  },
  {
   "cell_type": "markdown",
   "metadata": {},
   "source": [
    "Q3: In this question you have to scrape data using the filters available on the\n",
    "            webpage. You have to use the location and salary filter. You have to scrape data for “Data Scientist” designation for first 10 job results. You have to scrape the job-title, job-location, company_name, experience_required. The location filter to be used is “Delhi/NCR” The salary filter to be used is “3-6” lakhs\n"
   ]
  },
  {
   "cell_type": "code",
   "execution_count": 11,
   "metadata": {},
   "outputs": [],
   "source": [
    "# filling the website location into our driver\n",
    "driver.get('https://www.naukri.com/')"
   ]
  },
  {
   "cell_type": "code",
   "execution_count": 12,
   "metadata": {},
   "outputs": [],
   "source": [
    "# finding element for search bar and writing on it\n",
    "\n",
    "search_bar= driver.find_element_by_id('qsb-keyword-sugg')\n",
    "search_bar.send_keys('Data scientist')"
   ]
  },
  {
   "cell_type": "code",
   "execution_count": 13,
   "metadata": {},
   "outputs": [],
   "source": [
    "# Clicking search button.\n",
    "\n",
    "search_btn= driver.find_element_by_xpath(\"//button[@class='btn']\")\n",
    "search_btn.click()"
   ]
  },
  {
   "cell_type": "code",
   "execution_count": 14,
   "metadata": {},
   "outputs": [],
   "source": [
    "# Clicking on checkbox for filtering\n",
    "\n",
    "location_check= driver.find_elements_by_xpath(\"//span[@class='ellipsis fleft']\")\n",
    "location_check[1].click()"
   ]
  },
  {
   "cell_type": "code",
   "execution_count": 16,
   "metadata": {},
   "outputs": [],
   "source": [
    "salary_check= driver.find_elements_by_xpath(\"//span[@class='ellipsis fleft']\")\n",
    "salary_check[5].click()"
   ]
  },
  {
   "cell_type": "code",
   "execution_count": 17,
   "metadata": {},
   "outputs": [
    {
     "data": {
      "text/plain": [
       "['Data Scientist / Data Analyst -Business Analyst',\n",
       " 'Data Scientist',\n",
       " 'Senior Data Scientist II 5+ yrs II Gurgaon',\n",
       " 'Excellent opportunity For Data Scientist',\n",
       " 'Data Scientist',\n",
       " 'DATA Scientist – Gurgaon (Exp 3-6 years)',\n",
       " 'DATA Scientist – Gurgaon (Exp 3-6 years)',\n",
       " \"Data Scientist - Noida/ B'lore\",\n",
       " 'Data Scientist',\n",
       " 'Data Scientist']"
      ]
     },
     "execution_count": 17,
     "metadata": {},
     "output_type": "execute_result"
    }
   ],
   "source": [
    "# Extracting job titles and then the text\n",
    "\n",
    "titles= driver.find_elements_by_xpath(\"//a[@class='title fw500 ellipsis']\")\n",
    "job_titles=[]\n",
    "\n",
    "for i in titles:\n",
    "    job_titles.append(i.text)\n",
    "    \n",
    "job_titles= job_titles[0:10]\n",
    "job_titles"
   ]
  },
  {
   "cell_type": "code",
   "execution_count": 18,
   "metadata": {},
   "outputs": [
    {
     "data": {
      "text/plain": [
       "['Inflexion Analytix Private Limited',\n",
       " 'IBM India Pvt. Limited',\n",
       " 'Zenatix Solutions Private Limited',\n",
       " 'NEC CORPORATION INDIA PRIVATE LIMITED',\n",
       " 'Mobikwik',\n",
       " 'CRESCENDO GLOBAL LEADERSHIP HIRING INDIA PRIVATE L IMITED',\n",
       " 'CRESCENDO GLOBAL LEADERSHIP HIRING INDIA PRIVATE L IMITED',\n",
       " 'NEC CORPORATION INDIA PRIVATE LIMITED',\n",
       " 'Cloudstrats Technologies Private Limited',\n",
       " 'Country Veggie']"
      ]
     },
     "execution_count": 18,
     "metadata": {},
     "output_type": "execute_result"
    }
   ],
   "source": [
    "# Extracting company names and then text\n",
    "\n",
    "companies= driver.find_elements_by_xpath(\"//a[@class='subTitle ellipsis fleft']\")\n",
    "comp_names=[]\n",
    "\n",
    "for i in companies:\n",
    "    comp_names.append(i.text)\n",
    "    \n",
    "comp_names= comp_names[0:10]\n",
    "comp_names"
   ]
  },
  {
   "cell_type": "code",
   "execution_count": 19,
   "metadata": {},
   "outputs": [
    {
     "data": {
      "text/plain": [
       "['Mumbai, Hyderabad/Secunderabad, Pune, Gurgaon/Gurugram, Chennai, Bangalore/Bengaluru',\n",
       " 'Noida, Hyderabad/Secunderabad, Bangalore/Bengaluru',\n",
       " 'Gurgaon/Gurugram',\n",
       " 'Noida, Bangalore/Bengaluru',\n",
       " 'New Delhi, Gurgaon/Gurugram, Delhi / NCR',\n",
       " 'Gurgaon/Gurugram, Delhi / NCR',\n",
       " 'Gurgaon/Gurugram, Delhi / NCR',\n",
       " 'Noida, Bangalore/Bengaluru',\n",
       " 'Bangalore/Bengaluru, Delhi / NCR, Mumbai (All Areas)',\n",
       " 'Bharuch, Jaipur, Bhopal, Mumbai, Jhansi, Nagpur, Ghaziabad, Jaunpur, Kanpur, New Delhi, Lucknow, Agra, Gurgaon/Gurugram, Rajkot, Bangalore/Bengaluru']"
      ]
     },
     "execution_count": 19,
     "metadata": {},
     "output_type": "execute_result"
    }
   ],
   "source": [
    "# Extracting job location and then text\n",
    "\n",
    "loc= driver.find_elements_by_xpath(\"//li[@class='fleft grey-text br2 placeHolderLi location']//span\")  \n",
    "job_loc=[]\n",
    "\n",
    "for i in loc:\n",
    "    job_loc.append(i.text)\n",
    "    \n",
    "job_loc= job_loc[0:10]\n",
    "job_loc"
   ]
  },
  {
   "cell_type": "code",
   "execution_count": null,
   "metadata": {},
   "outputs": [],
   "source": [
    "# Extracting job experience and then text\n",
    "\n",
    "exp= driver.find_elements_by_xpath(\"//li[@class='fleft grey-text br2 placeHolderLi experience']//span\")  \n",
    "job_exp=[]\n",
    "\n",
    "for i in exp:\n",
    "    job_exp.append(i.text)\n",
    "    \n",
    "job_exp= job_exp[0:10]"
   ]
  },
  {
   "cell_type": "code",
   "execution_count": 21,
   "metadata": {},
   "outputs": [
    {
     "data": {
      "text/html": [
       "<div>\n",
       "<style scoped>\n",
       "    .dataframe tbody tr th:only-of-type {\n",
       "        vertical-align: middle;\n",
       "    }\n",
       "\n",
       "    .dataframe tbody tr th {\n",
       "        vertical-align: top;\n",
       "    }\n",
       "\n",
       "    .dataframe thead th {\n",
       "        text-align: right;\n",
       "    }\n",
       "</style>\n",
       "<table border=\"1\" class=\"dataframe\">\n",
       "  <thead>\n",
       "    <tr style=\"text-align: right;\">\n",
       "      <th></th>\n",
       "      <th>Job_titles</th>\n",
       "      <th>Location</th>\n",
       "      <th>Company</th>\n",
       "      <th>Experience</th>\n",
       "    </tr>\n",
       "  </thead>\n",
       "  <tbody>\n",
       "    <tr>\n",
       "      <th>0</th>\n",
       "      <td>Data Scientist / Data Analyst -Business Analyst</td>\n",
       "      <td>Mumbai, Hyderabad/Secunderabad, Pune, Gurgaon/...</td>\n",
       "      <td>Inflexion Analytix Private Limited</td>\n",
       "      <td>0-3 Yrs</td>\n",
       "    </tr>\n",
       "    <tr>\n",
       "      <th>1</th>\n",
       "      <td>Data Scientist</td>\n",
       "      <td>Noida, Hyderabad/Secunderabad, Bangalore/Benga...</td>\n",
       "      <td>IBM India Pvt. Limited</td>\n",
       "      <td>4-9 Yrs</td>\n",
       "    </tr>\n",
       "    <tr>\n",
       "      <th>2</th>\n",
       "      <td>Senior Data Scientist II 5+ yrs II Gurgaon</td>\n",
       "      <td>Gurgaon/Gurugram</td>\n",
       "      <td>Zenatix Solutions Private Limited</td>\n",
       "      <td>5-10 Yrs</td>\n",
       "    </tr>\n",
       "    <tr>\n",
       "      <th>3</th>\n",
       "      <td>Excellent opportunity For Data Scientist</td>\n",
       "      <td>Noida, Bangalore/Bengaluru</td>\n",
       "      <td>NEC CORPORATION INDIA PRIVATE LIMITED</td>\n",
       "      <td>3-7 Yrs</td>\n",
       "    </tr>\n",
       "    <tr>\n",
       "      <th>4</th>\n",
       "      <td>Data Scientist</td>\n",
       "      <td>New Delhi, Gurgaon/Gurugram, Delhi / NCR</td>\n",
       "      <td>Mobikwik</td>\n",
       "      <td>3-5 Yrs</td>\n",
       "    </tr>\n",
       "    <tr>\n",
       "      <th>5</th>\n",
       "      <td>DATA Scientist – Gurgaon (Exp 3-6 years)</td>\n",
       "      <td>Gurgaon/Gurugram, Delhi / NCR</td>\n",
       "      <td>CRESCENDO GLOBAL LEADERSHIP HIRING INDIA PRIVA...</td>\n",
       "      <td>3-6 Yrs</td>\n",
       "    </tr>\n",
       "    <tr>\n",
       "      <th>6</th>\n",
       "      <td>DATA Scientist – Gurgaon (Exp 3-6 years)</td>\n",
       "      <td>Gurgaon/Gurugram, Delhi / NCR</td>\n",
       "      <td>CRESCENDO GLOBAL LEADERSHIP HIRING INDIA PRIVA...</td>\n",
       "      <td>3-6 Yrs</td>\n",
       "    </tr>\n",
       "    <tr>\n",
       "      <th>7</th>\n",
       "      <td>Data Scientist - Noida/ B'lore</td>\n",
       "      <td>Noida, Bangalore/Bengaluru</td>\n",
       "      <td>NEC CORPORATION INDIA PRIVATE LIMITED</td>\n",
       "      <td>3-8 Yrs</td>\n",
       "    </tr>\n",
       "    <tr>\n",
       "      <th>8</th>\n",
       "      <td>Data Scientist</td>\n",
       "      <td>Bangalore/Bengaluru, Delhi / NCR, Mumbai (All ...</td>\n",
       "      <td>Cloudstrats Technologies Private Limited</td>\n",
       "      <td>5-8 Yrs</td>\n",
       "    </tr>\n",
       "    <tr>\n",
       "      <th>9</th>\n",
       "      <td>Data Scientist</td>\n",
       "      <td>Bharuch, Jaipur, Bhopal, Mumbai, Jhansi, Nagpu...</td>\n",
       "      <td>Country Veggie</td>\n",
       "      <td>1-3 Yrs</td>\n",
       "    </tr>\n",
       "  </tbody>\n",
       "</table>\n",
       "</div>"
      ],
      "text/plain": [
       "                                        Job_titles  \\\n",
       "0  Data Scientist / Data Analyst -Business Analyst   \n",
       "1                                   Data Scientist   \n",
       "2       Senior Data Scientist II 5+ yrs II Gurgaon   \n",
       "3         Excellent opportunity For Data Scientist   \n",
       "4                                   Data Scientist   \n",
       "5         DATA Scientist – Gurgaon (Exp 3-6 years)   \n",
       "6         DATA Scientist – Gurgaon (Exp 3-6 years)   \n",
       "7                   Data Scientist - Noida/ B'lore   \n",
       "8                                   Data Scientist   \n",
       "9                                   Data Scientist   \n",
       "\n",
       "                                            Location  \\\n",
       "0  Mumbai, Hyderabad/Secunderabad, Pune, Gurgaon/...   \n",
       "1  Noida, Hyderabad/Secunderabad, Bangalore/Benga...   \n",
       "2                                   Gurgaon/Gurugram   \n",
       "3                         Noida, Bangalore/Bengaluru   \n",
       "4           New Delhi, Gurgaon/Gurugram, Delhi / NCR   \n",
       "5                      Gurgaon/Gurugram, Delhi / NCR   \n",
       "6                      Gurgaon/Gurugram, Delhi / NCR   \n",
       "7                         Noida, Bangalore/Bengaluru   \n",
       "8  Bangalore/Bengaluru, Delhi / NCR, Mumbai (All ...   \n",
       "9  Bharuch, Jaipur, Bhopal, Mumbai, Jhansi, Nagpu...   \n",
       "\n",
       "                                             Company Experience  \n",
       "0                 Inflexion Analytix Private Limited    0-3 Yrs  \n",
       "1                             IBM India Pvt. Limited    4-9 Yrs  \n",
       "2                  Zenatix Solutions Private Limited   5-10 Yrs  \n",
       "3              NEC CORPORATION INDIA PRIVATE LIMITED    3-7 Yrs  \n",
       "4                                           Mobikwik    3-5 Yrs  \n",
       "5  CRESCENDO GLOBAL LEADERSHIP HIRING INDIA PRIVA...    3-6 Yrs  \n",
       "6  CRESCENDO GLOBAL LEADERSHIP HIRING INDIA PRIVA...    3-6 Yrs  \n",
       "7              NEC CORPORATION INDIA PRIVATE LIMITED    3-8 Yrs  \n",
       "8           Cloudstrats Technologies Private Limited    5-8 Yrs  \n",
       "9                                     Country Veggie    1-3 Yrs  "
      ]
     },
     "execution_count": 21,
     "metadata": {},
     "output_type": "execute_result"
    }
   ],
   "source": [
    "# Creating dataframe\n",
    "\n",
    "x= {'Job_titles':job_titles,'Location': job_loc,'Company': comp_names, 'Experience': job_exp}\n",
    "df3= pd.DataFrame(x)\n",
    "df3"
   ]
  },
  {
   "cell_type": "markdown",
   "metadata": {},
   "source": [
    "# Task 4"
   ]
  },
  {
   "cell_type": "markdown",
   "metadata": {},
   "source": [
    "Q4: Write a python program to scrape data for first 10 job results for Data scientist\n",
    "    Designation in Noida location.\n",
    "    You have to scrape company_name, No. of days\n",
    "    ago when job was posted, Rating of the company."
   ]
  },
  {
   "cell_type": "code",
   "execution_count": 49,
   "metadata": {},
   "outputs": [],
   "source": [
    "# filling the website location into our driver\n",
    "driver.get('https://www.glassdoor.co.in/index.htm')"
   ]
  },
  {
   "cell_type": "code",
   "execution_count": null,
   "metadata": {},
   "outputs": [],
   "source": [
    "# Clicking on title box to enter the data\n",
    "\n",
    "title_bar= driver.find_element_by_xpath(\"//input[@class='css-1etjok6']\")\n",
    "title_bar.click()"
   ]
  },
  {
   "cell_type": "code",
   "execution_count": 50,
   "metadata": {},
   "outputs": [
    {
     "data": {
      "text/plain": [
       "<selenium.webdriver.remote.webelement.WebElement (session=\"b80533d375a69d7f8b6906f81094c345\", element=\"bc7340bd-ea34-4e41-ae1c-8f6c9358e8de\")>"
      ]
     },
     "execution_count": 50,
     "metadata": {},
     "output_type": "execute_result"
    }
   ],
   "source": [
    "# finding element for search bar\n",
    "\n",
    "search_bar= driver.find_element_by_id(\"scKeyword\") \n",
    "search_bar"
   ]
  },
  {
   "cell_type": "code",
   "execution_count": 51,
   "metadata": {},
   "outputs": [],
   "source": [
    "# Writing on search bar\n",
    "\n",
    "search_bar.send_keys(\"Data Scientist\")"
   ]
  },
  {
   "cell_type": "code",
   "execution_count": 53,
   "metadata": {},
   "outputs": [
    {
     "data": {
      "text/plain": [
       "<selenium.webdriver.remote.webelement.WebElement (session=\"b80533d375a69d7f8b6906f81094c345\", element=\"82349b80-c519-47ac-b7ee-ed46bab974d6\")>"
      ]
     },
     "execution_count": 53,
     "metadata": {},
     "output_type": "execute_result"
    }
   ],
   "source": [
    "# finding element for location bar\n",
    "\n",
    "search_loc= driver.find_element_by_id(\"scLocation\") \n",
    "search_loc"
   ]
  },
  {
   "cell_type": "code",
   "execution_count": null,
   "metadata": {},
   "outputs": [],
   "source": [
    "# Clearing the pre written text in location bar\n",
    "\n",
    "search_loc.clear()"
   ]
  },
  {
   "cell_type": "code",
   "execution_count": 56,
   "metadata": {},
   "outputs": [],
   "source": [
    "# Writing on location bar\n",
    "\n",
    "search_loc.send_keys('Noida')"
   ]
  },
  {
   "cell_type": "code",
   "execution_count": 57,
   "metadata": {},
   "outputs": [
    {
     "data": {
      "text/plain": [
       "<selenium.webdriver.remote.webelement.WebElement (session=\"b80533d375a69d7f8b6906f81094c345\", element=\"2aea6fee-75fa-417d-b82f-d50bb1fe8dcb\")>"
      ]
     },
     "execution_count": 57,
     "metadata": {},
     "output_type": "execute_result"
    }
   ],
   "source": [
    "# finding element for submit button\n",
    "\n",
    "search_bt= driver.find_element_by_id(\"prefix__icon-arrow-1\") \n",
    "search_bt"
   ]
  },
  {
   "cell_type": "code",
   "execution_count": 58,
   "metadata": {},
   "outputs": [],
   "source": [
    "# clicking on submit button\n",
    "\n",
    "search_bt.click()"
   ]
  },
  {
   "cell_type": "code",
   "execution_count": 60,
   "metadata": {},
   "outputs": [
    {
     "data": {
      "text/plain": [
       "['Biz2Credit Inc',\n",
       " 'Ericsson',\n",
       " 'CRMNEXT',\n",
       " 'Unyscape Infocom Pvt. Ltd',\n",
       " 'Techlive',\n",
       " 'CRMNEXT',\n",
       " 'Salasar New Age Technologies',\n",
       " 'ANI Calls India Private Limited',\n",
       " 'Sparkbpl',\n",
       " 'WishFin']"
      ]
     },
     "execution_count": 60,
     "metadata": {},
     "output_type": "execute_result"
    }
   ],
   "source": [
    "# Extracting element of company names and then the text\n",
    "\n",
    "company= driver.find_elements_by_xpath(\"//a[@class=' css-l2wjgv e1n63ojh0 jobLink']//span\")\n",
    "time.sleep(4)\n",
    "company_list=[]\n",
    "\n",
    "for i in company:\n",
    "    company_list.append(i.text)\n",
    "    \n",
    "company_list= company_list[0:10]\n",
    "company_list"
   ]
  },
  {
   "cell_type": "code",
   "execution_count": 62,
   "metadata": {},
   "outputs": [
    {
     "data": {
      "text/plain": [
       "['3.8', '4.1', '3.6', '4.2', '5.0', '3.6', '3.8', '3.0', '3.6', '4.1']"
      ]
     },
     "execution_count": 62,
     "metadata": {},
     "output_type": "execute_result"
    }
   ],
   "source": [
    "# Extracting element of ratings and then the text\n",
    "\n",
    "rate= driver.find_elements_by_xpath(\"//span[@class='css-19pjha7 e1cjmv6j1']\")\n",
    "time.sleep(3)\n",
    "ratings=[]\n",
    "\n",
    "for i in rate:\n",
    "    ratings.append(i.text)\n",
    "    \n",
    "ratings= ratings[0:10]\n",
    "ratings"
   ]
  },
  {
   "cell_type": "code",
   "execution_count": 63,
   "metadata": {},
   "outputs": [
    {
     "data": {
      "text/plain": [
       "['30d+', '7d', '5d', '30d+', '30d+', '5d', '30d+', '30d+', '6d', '30d+']"
      ]
     },
     "execution_count": 63,
     "metadata": {},
     "output_type": "execute_result"
    }
   ],
   "source": [
    "# Extracting element of no of days and then the text\n",
    "\n",
    "days= driver.find_elements_by_xpath(\"//div[@class='d-flex align-items-end pl-std css-mi55ob']\")\n",
    "time.sleep(3)\n",
    "days_gone=[]\n",
    "\n",
    "for i in days:\n",
    "    days_gone.append(i.text)\n",
    "    \n",
    "days_gone= days_gone[0:10]\n",
    "days_gone"
   ]
  },
  {
   "cell_type": "code",
   "execution_count": 64,
   "metadata": {},
   "outputs": [
    {
     "data": {
      "text/html": [
       "<div>\n",
       "<style scoped>\n",
       "    .dataframe tbody tr th:only-of-type {\n",
       "        vertical-align: middle;\n",
       "    }\n",
       "\n",
       "    .dataframe tbody tr th {\n",
       "        vertical-align: top;\n",
       "    }\n",
       "\n",
       "    .dataframe thead th {\n",
       "        text-align: right;\n",
       "    }\n",
       "</style>\n",
       "<table border=\"1\" class=\"dataframe\">\n",
       "  <thead>\n",
       "    <tr style=\"text-align: right;\">\n",
       "      <th></th>\n",
       "      <th>Job_company</th>\n",
       "      <th>Ratings</th>\n",
       "      <th>No of days past</th>\n",
       "    </tr>\n",
       "  </thead>\n",
       "  <tbody>\n",
       "    <tr>\n",
       "      <th>0</th>\n",
       "      <td>Biz2Credit Inc</td>\n",
       "      <td>3.8</td>\n",
       "      <td>30d+</td>\n",
       "    </tr>\n",
       "    <tr>\n",
       "      <th>1</th>\n",
       "      <td>Ericsson</td>\n",
       "      <td>4.1</td>\n",
       "      <td>7d</td>\n",
       "    </tr>\n",
       "    <tr>\n",
       "      <th>2</th>\n",
       "      <td>CRMNEXT</td>\n",
       "      <td>3.6</td>\n",
       "      <td>5d</td>\n",
       "    </tr>\n",
       "    <tr>\n",
       "      <th>3</th>\n",
       "      <td>Unyscape Infocom Pvt. Ltd</td>\n",
       "      <td>4.2</td>\n",
       "      <td>30d+</td>\n",
       "    </tr>\n",
       "    <tr>\n",
       "      <th>4</th>\n",
       "      <td>Techlive</td>\n",
       "      <td>5.0</td>\n",
       "      <td>30d+</td>\n",
       "    </tr>\n",
       "    <tr>\n",
       "      <th>5</th>\n",
       "      <td>CRMNEXT</td>\n",
       "      <td>3.6</td>\n",
       "      <td>5d</td>\n",
       "    </tr>\n",
       "    <tr>\n",
       "      <th>6</th>\n",
       "      <td>Salasar New Age Technologies</td>\n",
       "      <td>3.8</td>\n",
       "      <td>30d+</td>\n",
       "    </tr>\n",
       "    <tr>\n",
       "      <th>7</th>\n",
       "      <td>ANI Calls India Private Limited</td>\n",
       "      <td>3.0</td>\n",
       "      <td>30d+</td>\n",
       "    </tr>\n",
       "    <tr>\n",
       "      <th>8</th>\n",
       "      <td>Sparkbpl</td>\n",
       "      <td>3.6</td>\n",
       "      <td>6d</td>\n",
       "    </tr>\n",
       "    <tr>\n",
       "      <th>9</th>\n",
       "      <td>WishFin</td>\n",
       "      <td>4.1</td>\n",
       "      <td>30d+</td>\n",
       "    </tr>\n",
       "  </tbody>\n",
       "</table>\n",
       "</div>"
      ],
      "text/plain": [
       "                       Job_company Ratings No of days past\n",
       "0                   Biz2Credit Inc     3.8            30d+\n",
       "1                         Ericsson     4.1              7d\n",
       "2                          CRMNEXT     3.6              5d\n",
       "3        Unyscape Infocom Pvt. Ltd     4.2            30d+\n",
       "4                         Techlive     5.0            30d+\n",
       "5                          CRMNEXT     3.6              5d\n",
       "6     Salasar New Age Technologies     3.8            30d+\n",
       "7  ANI Calls India Private Limited     3.0            30d+\n",
       "8                         Sparkbpl     3.6              6d\n",
       "9                          WishFin     4.1            30d+"
      ]
     },
     "execution_count": 64,
     "metadata": {},
     "output_type": "execute_result"
    }
   ],
   "source": [
    "# Creating dataframe\n",
    "\n",
    "x= {'Job_company':company_list ,'Ratings': ratings,'No of days past': days_gone}\n",
    "df4= pd.DataFrame(x)\n",
    "df4"
   ]
  },
  {
   "cell_type": "markdown",
   "metadata": {},
   "source": [
    "# Task 5"
   ]
  },
  {
   "cell_type": "markdown",
   "metadata": {},
   "source": [
    "Q5: Write a python program to scrape the salary data for Data Scientist designation\n",
    "    in Noida location."
   ]
  },
  {
   "cell_type": "code",
   "execution_count": 66,
   "metadata": {},
   "outputs": [],
   "source": [
    "# filling the website location into our driver\n",
    "driver.get('https://www.glassdoor.co.in/Salaries/index.htm')"
   ]
  },
  {
   "cell_type": "code",
   "execution_count": 67,
   "metadata": {},
   "outputs": [],
   "source": [
    "# finding element for title bar and writing on it\n",
    "\n",
    "title_bar= driver.find_element_by_id('KeywordSearch')\n",
    "time.sleep(3)\n",
    "title_bar.send_keys('Data Scientist')"
   ]
  },
  {
   "cell_type": "code",
   "execution_count": 68,
   "metadata": {},
   "outputs": [],
   "source": [
    "# finding element for location bar and clearing it.\n",
    "\n",
    "loc_bar= driver.find_element_by_id('LocationSearch')\n",
    "time.sleep(3)\n",
    "loc_bar.clear()"
   ]
  },
  {
   "cell_type": "code",
   "execution_count": 69,
   "metadata": {},
   "outputs": [],
   "source": [
    "# writting on location bar\n",
    "\n",
    "loc_bar.send_keys('Noida')"
   ]
  },
  {
   "cell_type": "code",
   "execution_count": 70,
   "metadata": {},
   "outputs": [],
   "source": [
    "# finding element for search button and clicking in it.\n",
    "\n",
    "search_btn= driver.find_element_by_id('HeroSearchButton')\n",
    "search_btn.click()"
   ]
  },
  {
   "cell_type": "code",
   "execution_count": 75,
   "metadata": {},
   "outputs": [
    {
     "data": {
      "text/plain": [
       "['Tata Consultancy Services',\n",
       " 'IBM',\n",
       " 'Ericsson-Worldwide',\n",
       " 'Delhivery',\n",
       " 'Accenture',\n",
       " 'UnitedHealth Group',\n",
       " 'Valiance Solutions',\n",
       " 'ZS Associates',\n",
       " 'EXL Service',\n",
       " 'Optum Global Solutions']"
      ]
     },
     "execution_count": 75,
     "metadata": {},
     "output_type": "execute_result"
    }
   ],
   "source": [
    "# finding element for company names and extracting the text\n",
    "\n",
    "com= driver.find_elements_by_xpath(\"//p[@class='m-0 ']\")\n",
    "time.sleep(3)\n",
    "companies=[]\n",
    "for i in com:\n",
    "    companies.append(i.text)\n",
    "    \n",
    "companies= companies[0:10]\n",
    "companies"
   ]
  },
  {
   "cell_type": "code",
   "execution_count": 76,
   "metadata": {},
   "outputs": [
    {
     "data": {
      "text/plain": [
       "['16 salaries',\n",
       " '14 salaries',\n",
       " '14 salaries',\n",
       " '14 salaries',\n",
       " '13 salaries',\n",
       " '11 salaries',\n",
       " '9 salaries',\n",
       " '8 salaries',\n",
       " '8 salaries',\n",
       " '8 salaries']"
      ]
     },
     "execution_count": 76,
     "metadata": {},
     "output_type": "execute_result"
    }
   ],
   "source": [
    "# finding element for no of salaries and extracting the text\n",
    "\n",
    "sal= driver.find_elements_by_xpath(\"//p[@class='css-1uyte9r css-1kuy7z7 m-0 ']\")\n",
    "time.sleep(3)\n",
    "\n",
    "salaries=[]\n",
    "for i in sal:\n",
    "    salaries.append(i.text)\n",
    "    \n",
    "salaries= salaries[0:10]\n",
    "salaries"
   ]
  },
  {
   "cell_type": "code",
   "execution_count": 77,
   "metadata": {},
   "outputs": [
    {
     "data": {
      "text/plain": [
       "['₹333K',\n",
       " '₹569K',\n",
       " '₹350K',\n",
       " '₹436K',\n",
       " '₹560K',\n",
       " '₹1,037K',\n",
       " '₹487K',\n",
       " '₹196K',\n",
       " '₹558K',\n",
       " '₹1,000K']"
      ]
     },
     "execution_count": 77,
     "metadata": {},
     "output_type": "execute_result"
    }
   ],
   "source": [
    "# finding element for min salary and extracting the text\n",
    "\n",
    "minn= driver.find_elements_by_xpath(\"//div[@class='common__RangeBarStyle__values d-flex justify-content-between ']//span[1]\")\n",
    "time.sleep(3)\n",
    "\n",
    "min_salary=[]\n",
    "for i in minn:\n",
    "    min_salary.append(i.text)\n",
    "    \n",
    "min_salary= min_salary[0:10]\n",
    "min_salary"
   ]
  },
  {
   "cell_type": "code",
   "execution_count": 78,
   "metadata": {},
   "outputs": [
    {
     "data": {
      "text/plain": [
       "['₹1,080K',\n",
       " '₹2,648K',\n",
       " '₹1,565K',\n",
       " '₹11,274K',\n",
       " '₹2,147K',\n",
       " '₹1,500K',\n",
       " '₹1,421K',\n",
       " '₹1,755K',\n",
       " '₹1,500K',\n",
       " '₹2,085K']"
      ]
     },
     "execution_count": 78,
     "metadata": {},
     "output_type": "execute_result"
    }
   ],
   "source": [
    "# finding element for max salary and extracting the text\n",
    "\n",
    "maxx= driver.find_elements_by_xpath(\"//div[@class='common__RangeBarStyle__values d-flex justify-content-between ']//span[2]\")\n",
    "time.sleep(3)\n",
    "\n",
    "max_salary=[]\n",
    "for i in maxx:\n",
    "    max_salary.append(i.text)\n",
    "    \n",
    "max_salary= max_salary[0:10]\n",
    "max_salary"
   ]
  },
  {
   "cell_type": "code",
   "execution_count": 80,
   "metadata": {},
   "outputs": [
    {
     "data": {
      "text/plain": [
       "['₹ 5,97,967/yr',\n",
       " '₹ 8,79,486/yr',\n",
       " '₹ 7,15,984/yr',\n",
       " '₹ 12,12,741/yr',\n",
       " '₹ 10,97,744/yr',\n",
       " '₹ 12,96,182/yr',\n",
       " '₹ 7,90,812/yr',\n",
       " '₹ 11,19,962/yr',\n",
       " '₹ 11,10,022/yr',\n",
       " '₹ 13,93,451/yr']"
      ]
     },
     "execution_count": 80,
     "metadata": {},
     "output_type": "execute_result"
    }
   ],
   "source": [
    "# finding element for average salary and extracting the text\n",
    "\n",
    "avg= driver.find_elements_by_xpath(\"//div[@class='col-2 d-none d-md-flex flex-row justify-content-end']\")\n",
    "time.sleep(3)\n",
    "\n",
    "avg_salary=[]\n",
    "for i in avg:\n",
    "    avg_salary.append(i.text.replace('\\n',''))\n",
    "    \n",
    "avg_salary= avg_salary[0:10]\n",
    "avg_salary"
   ]
  },
  {
   "cell_type": "code",
   "execution_count": 81,
   "metadata": {},
   "outputs": [
    {
     "data": {
      "text/html": [
       "<div>\n",
       "<style scoped>\n",
       "    .dataframe tbody tr th:only-of-type {\n",
       "        vertical-align: middle;\n",
       "    }\n",
       "\n",
       "    .dataframe tbody tr th {\n",
       "        vertical-align: top;\n",
       "    }\n",
       "\n",
       "    .dataframe thead th {\n",
       "        text-align: right;\n",
       "    }\n",
       "</style>\n",
       "<table border=\"1\" class=\"dataframe\">\n",
       "  <thead>\n",
       "    <tr style=\"text-align: right;\">\n",
       "      <th></th>\n",
       "      <th>Job_company</th>\n",
       "      <th>Minimum salary</th>\n",
       "      <th>Average salary</th>\n",
       "      <th>Maximum salary</th>\n",
       "    </tr>\n",
       "  </thead>\n",
       "  <tbody>\n",
       "    <tr>\n",
       "      <th>0</th>\n",
       "      <td>Tata Consultancy Services</td>\n",
       "      <td>₹333K</td>\n",
       "      <td>₹ 5,97,967/yr</td>\n",
       "      <td>₹1,080K</td>\n",
       "    </tr>\n",
       "    <tr>\n",
       "      <th>1</th>\n",
       "      <td>IBM</td>\n",
       "      <td>₹569K</td>\n",
       "      <td>₹ 8,79,486/yr</td>\n",
       "      <td>₹2,648K</td>\n",
       "    </tr>\n",
       "    <tr>\n",
       "      <th>2</th>\n",
       "      <td>Ericsson-Worldwide</td>\n",
       "      <td>₹350K</td>\n",
       "      <td>₹ 7,15,984/yr</td>\n",
       "      <td>₹1,565K</td>\n",
       "    </tr>\n",
       "    <tr>\n",
       "      <th>3</th>\n",
       "      <td>Delhivery</td>\n",
       "      <td>₹436K</td>\n",
       "      <td>₹ 12,12,741/yr</td>\n",
       "      <td>₹11,274K</td>\n",
       "    </tr>\n",
       "    <tr>\n",
       "      <th>4</th>\n",
       "      <td>Accenture</td>\n",
       "      <td>₹560K</td>\n",
       "      <td>₹ 10,97,744/yr</td>\n",
       "      <td>₹2,147K</td>\n",
       "    </tr>\n",
       "    <tr>\n",
       "      <th>5</th>\n",
       "      <td>UnitedHealth Group</td>\n",
       "      <td>₹1,037K</td>\n",
       "      <td>₹ 12,96,182/yr</td>\n",
       "      <td>₹1,500K</td>\n",
       "    </tr>\n",
       "    <tr>\n",
       "      <th>6</th>\n",
       "      <td>Valiance Solutions</td>\n",
       "      <td>₹487K</td>\n",
       "      <td>₹ 7,90,812/yr</td>\n",
       "      <td>₹1,421K</td>\n",
       "    </tr>\n",
       "    <tr>\n",
       "      <th>7</th>\n",
       "      <td>ZS Associates</td>\n",
       "      <td>₹196K</td>\n",
       "      <td>₹ 11,19,962/yr</td>\n",
       "      <td>₹1,755K</td>\n",
       "    </tr>\n",
       "    <tr>\n",
       "      <th>8</th>\n",
       "      <td>EXL Service</td>\n",
       "      <td>₹558K</td>\n",
       "      <td>₹ 11,10,022/yr</td>\n",
       "      <td>₹1,500K</td>\n",
       "    </tr>\n",
       "    <tr>\n",
       "      <th>9</th>\n",
       "      <td>Optum Global Solutions</td>\n",
       "      <td>₹1,000K</td>\n",
       "      <td>₹ 13,93,451/yr</td>\n",
       "      <td>₹2,085K</td>\n",
       "    </tr>\n",
       "  </tbody>\n",
       "</table>\n",
       "</div>"
      ],
      "text/plain": [
       "                 Job_company Minimum salary  Average salary Maximum salary\n",
       "0  Tata Consultancy Services          ₹333K   ₹ 5,97,967/yr        ₹1,080K\n",
       "1                        IBM          ₹569K   ₹ 8,79,486/yr        ₹2,648K\n",
       "2         Ericsson-Worldwide          ₹350K   ₹ 7,15,984/yr        ₹1,565K\n",
       "3                  Delhivery          ₹436K  ₹ 12,12,741/yr       ₹11,274K\n",
       "4                  Accenture          ₹560K  ₹ 10,97,744/yr        ₹2,147K\n",
       "5         UnitedHealth Group        ₹1,037K  ₹ 12,96,182/yr        ₹1,500K\n",
       "6         Valiance Solutions          ₹487K   ₹ 7,90,812/yr        ₹1,421K\n",
       "7              ZS Associates          ₹196K  ₹ 11,19,962/yr        ₹1,755K\n",
       "8                EXL Service          ₹558K  ₹ 11,10,022/yr        ₹1,500K\n",
       "9     Optum Global Solutions        ₹1,000K  ₹ 13,93,451/yr        ₹2,085K"
      ]
     },
     "execution_count": 81,
     "metadata": {},
     "output_type": "execute_result"
    }
   ],
   "source": [
    "# Creating dataframe\n",
    "\n",
    "x= {'Job_company':companies ,'Minimum salary': min_salary,'Average salary': avg_salary, 'Maximum salary': max_salary}\n",
    "df5= pd.DataFrame(x)\n",
    "df5"
   ]
  },
  {
   "cell_type": "markdown",
   "metadata": {},
   "source": [
    "# Task 6"
   ]
  },
  {
   "cell_type": "markdown",
   "metadata": {},
   "source": [
    "Q6 : Scrape data of first 100 sunglasses listings on flipkart.com. You have to\n",
    "    scrape four attributes:\n",
    "    1. Brand\n",
    "    2. Product Description\n",
    "    3. Price\n",
    "    4. Discount %"
   ]
  },
  {
   "cell_type": "code",
   "execution_count": 3,
   "metadata": {},
   "outputs": [],
   "source": [
    "# filling the website location into our driver\n",
    "\n",
    "driver.get('https://www.flipkart.com/')"
   ]
  },
  {
   "cell_type": "code",
   "execution_count": 4,
   "metadata": {},
   "outputs": [],
   "source": [
    "# finding element for search bar and writting on it\n",
    "\n",
    "search_bar= driver.find_element_by_xpath(\"//div[@class='_3OO5Xc']//input\")\n",
    "search_bar.send_keys('sunglasses')"
   ]
  },
  {
   "cell_type": "code",
   "execution_count": 5,
   "metadata": {},
   "outputs": [],
   "source": [
    "# finding element for search button and clicking on it\n",
    "\n",
    "search_btn= driver.find_element_by_xpath(\"//button[@class='L0Z3Pu']\")\n",
    "search_btn.click()"
   ]
  },
  {
   "cell_type": "code",
   "execution_count": 6,
   "metadata": {},
   "outputs": [],
   "source": [
    "# creating lists to store data\n",
    "\n",
    "brand=[]\n",
    "product=[]\n",
    "cost=[]\n",
    "discount=[]"
   ]
  },
  {
   "cell_type": "code",
   "execution_count": 71,
   "metadata": {},
   "outputs": [],
   "source": [
    "# finding elements for all the data and extracting the texts.\n",
    "\n",
    "for i in range(0,3):\n",
    "    for j in driver.find_elements_by_xpath(\"//div[@class='_2WkVRV']\"):\n",
    "        brand.append(j.text)\n",
    "        \n",
    "    for k in driver.find_elements_by_xpath(\"//a[contains(@class, 'IRpwTa')]\"):\n",
    "        product.append(k.text)\n",
    "        \n",
    "    for l in driver.find_elements_by_xpath(\"//div[@class='_30jeq3']\"):\n",
    "        cost.append(l.text)\n",
    "        \n",
    "    for m in driver.find_elements_by_xpath(\"//div[@class='_3Ay6Sb']//span\"):\n",
    "        discount.append(m.text)\n",
    "        \n",
    "    driver.find_element_by_xpath(\"//span[contains(text(),'Next')]\").click()  # clicking on next button\n",
    "    time.sleep(3)"
   ]
  },
  {
   "cell_type": "code",
   "execution_count": 72,
   "metadata": {},
   "outputs": [],
   "source": [
    "# arranging the lists\n",
    "\n",
    "brand= brand[0:100]\n",
    "product= product[0:100]\n",
    "cost= cost[0:100]\n",
    "discount= discount[0:100]"
   ]
  },
  {
   "cell_type": "code",
   "execution_count": 73,
   "metadata": {},
   "outputs": [
    {
     "data": {
      "text/html": [
       "<div>\n",
       "<style scoped>\n",
       "    .dataframe tbody tr th:only-of-type {\n",
       "        vertical-align: middle;\n",
       "    }\n",
       "\n",
       "    .dataframe tbody tr th {\n",
       "        vertical-align: top;\n",
       "    }\n",
       "\n",
       "    .dataframe thead th {\n",
       "        text-align: right;\n",
       "    }\n",
       "</style>\n",
       "<table border=\"1\" class=\"dataframe\">\n",
       "  <thead>\n",
       "    <tr style=\"text-align: right;\">\n",
       "      <th></th>\n",
       "      <th>Brand</th>\n",
       "      <th>Product description</th>\n",
       "      <th>Price</th>\n",
       "      <th>Discount</th>\n",
       "    </tr>\n",
       "  </thead>\n",
       "  <tbody>\n",
       "    <tr>\n",
       "      <th>0</th>\n",
       "      <td>Robbie jones</td>\n",
       "      <td>UV Protection Wayfarer Sunglasses (Free Size)</td>\n",
       "      <td>₹758</td>\n",
       "      <td>60% off</td>\n",
       "    </tr>\n",
       "    <tr>\n",
       "      <th>1</th>\n",
       "      <td>aadi</td>\n",
       "      <td>UV Protection Rectangular Sunglasses (Free Size)</td>\n",
       "      <td>₹630</td>\n",
       "      <td>70% off</td>\n",
       "    </tr>\n",
       "    <tr>\n",
       "      <th>2</th>\n",
       "      <td>HOTSTYLE</td>\n",
       "      <td>UV Protection Retro Square Sunglasses (Free Size)</td>\n",
       "      <td>₹499</td>\n",
       "      <td>43% off</td>\n",
       "    </tr>\n",
       "    <tr>\n",
       "      <th>3</th>\n",
       "      <td>Numenzo</td>\n",
       "      <td>UV Protection Retro Square Sunglasses (Free Size)</td>\n",
       "      <td>₹399</td>\n",
       "      <td>60% off</td>\n",
       "    </tr>\n",
       "    <tr>\n",
       "      <th>4</th>\n",
       "      <td>Robbie jones</td>\n",
       "      <td>Gradient, UV Protection Wayfarer Sunglasses (F...</td>\n",
       "      <td>₹621</td>\n",
       "      <td>52% off</td>\n",
       "    </tr>\n",
       "    <tr>\n",
       "      <th>...</th>\n",
       "      <td>...</td>\n",
       "      <td>...</td>\n",
       "      <td>...</td>\n",
       "      <td>...</td>\n",
       "    </tr>\n",
       "    <tr>\n",
       "      <th>95</th>\n",
       "      <td>ESSENCE</td>\n",
       "      <td>UV Protection, Gradient Wayfarer Sunglasses (57)</td>\n",
       "      <td>₹399</td>\n",
       "      <td>24% off</td>\n",
       "    </tr>\n",
       "    <tr>\n",
       "      <th>96</th>\n",
       "      <td>Billion</td>\n",
       "      <td>UV Protection Round Sunglasses (50)</td>\n",
       "      <td>₹525</td>\n",
       "      <td>45% off</td>\n",
       "    </tr>\n",
       "    <tr>\n",
       "      <th>97</th>\n",
       "      <td>KANEGGYE</td>\n",
       "      <td>UV Protection Retro Square Sunglasses (88)</td>\n",
       "      <td>₹399</td>\n",
       "      <td>55% off</td>\n",
       "    </tr>\n",
       "    <tr>\n",
       "      <th>98</th>\n",
       "      <td>JUBENTA</td>\n",
       "      <td>Mirrored Aviator Sunglasses (55)</td>\n",
       "      <td>₹599</td>\n",
       "      <td>61% off</td>\n",
       "    </tr>\n",
       "    <tr>\n",
       "      <th>99</th>\n",
       "      <td>believe</td>\n",
       "      <td>UV Protection Oval Sunglasses (56)</td>\n",
       "      <td>₹399</td>\n",
       "      <td>64% off</td>\n",
       "    </tr>\n",
       "  </tbody>\n",
       "</table>\n",
       "<p>100 rows × 4 columns</p>\n",
       "</div>"
      ],
      "text/plain": [
       "           Brand                                Product description Price  \\\n",
       "0   Robbie jones      UV Protection Wayfarer Sunglasses (Free Size)  ₹758   \n",
       "1           aadi   UV Protection Rectangular Sunglasses (Free Size)  ₹630   \n",
       "2       HOTSTYLE  UV Protection Retro Square Sunglasses (Free Size)  ₹499   \n",
       "3        Numenzo  UV Protection Retro Square Sunglasses (Free Size)  ₹399   \n",
       "4   Robbie jones  Gradient, UV Protection Wayfarer Sunglasses (F...  ₹621   \n",
       "..           ...                                                ...   ...   \n",
       "95       ESSENCE   UV Protection, Gradient Wayfarer Sunglasses (57)  ₹399   \n",
       "96       Billion                UV Protection Round Sunglasses (50)  ₹525   \n",
       "97      KANEGGYE         UV Protection Retro Square Sunglasses (88)  ₹399   \n",
       "98       JUBENTA                   Mirrored Aviator Sunglasses (55)  ₹599   \n",
       "99       believe                 UV Protection Oval Sunglasses (56)  ₹399   \n",
       "\n",
       "   Discount  \n",
       "0   60% off  \n",
       "1   70% off  \n",
       "2   43% off  \n",
       "3   60% off  \n",
       "4   52% off  \n",
       "..      ...  \n",
       "95  24% off  \n",
       "96  45% off  \n",
       "97  55% off  \n",
       "98  61% off  \n",
       "99  64% off  \n",
       "\n",
       "[100 rows x 4 columns]"
      ]
     },
     "execution_count": 73,
     "metadata": {},
     "output_type": "execute_result"
    }
   ],
   "source": [
    "# Creating dataframe\n",
    "\n",
    "x= {'Brand':brand ,'Product description': product,'Price': cost, 'Discount': discount}\n",
    "df6= pd.DataFrame(x)\n",
    "df6"
   ]
  },
  {
   "cell_type": "markdown",
   "metadata": {},
   "source": [
    "# Task 7"
   ]
  },
  {
   "cell_type": "markdown",
   "metadata": {},
   "source": [
    "Q7: Scrape 100 reviews data from flipkart.com for iphone11 phone. You have to\n",
    "    go the link: https://www.flipkart.com/apple-iphone-11-black-64-gb-includesearpods-poweradapter/p/itm0f37c2240b217?pid=MOBFKCTSVZAXUHGR&lid=LSTMOBFKCTSVZAXUHGREPBFGI&marketplace."
   ]
  },
  {
   "cell_type": "code",
   "execution_count": 51,
   "metadata": {},
   "outputs": [],
   "source": [
    "# filling the website location into our driver\n",
    "\n",
    "driver.get('https://www.flipkart.com/apple-iphone-11-black-64-gb-includes-earpods-power-adapter/p/itm0f37c2240b217?pid=MOBFKCTSVZAXUHGR&lid=LSTMOBFKCTSVZAXUHGREPBFGI&marketplace')"
   ]
  },
  {
   "cell_type": "code",
   "execution_count": 52,
   "metadata": {},
   "outputs": [],
   "source": [
    "# clicking on all reviews to fetch all the reviews together.\n",
    "\n",
    "all_rev= driver.find_element_by_xpath(\"//div[@class='_3UAT2v _16PBlm']/span\")\n",
    "all_rev.click()"
   ]
  },
  {
   "cell_type": "code",
   "execution_count": 53,
   "metadata": {},
   "outputs": [],
   "source": [
    "# creating lists to store data\n",
    "\n",
    "rating=[]\n",
    "summary=[]\n",
    "fullrev=[]"
   ]
  },
  {
   "cell_type": "code",
   "execution_count": 54,
   "metadata": {},
   "outputs": [],
   "source": [
    "# finding elements for all the data and extracting the texts.\n",
    "\n",
    "for i in range(0,10):\n",
    "    for j in driver.find_elements_by_xpath(\"//div[contains(@class, '_3LWZlK _')]\"):\n",
    "        rating.append(j.text)\n",
    "        \n",
    "    for k in driver.find_elements_by_xpath(\"//p[@class='_2-N8zT']\"):\n",
    "        summary.append(k.text)\n",
    "        \n",
    "    for l in driver.find_elements_by_xpath(\"//div[@class='t-ZTKy']\"):\n",
    "        fullrev.append(l.text)\n",
    "        \n",
    "    driver.find_element_by_xpath(\"//span[contains(text(),'Next')]\").click()  # clicking on next button\n",
    "    time.sleep(3)"
   ]
  },
  {
   "cell_type": "code",
   "execution_count": 55,
   "metadata": {},
   "outputs": [
    {
     "data": {
      "text/plain": [
       "100"
      ]
     },
     "execution_count": 55,
     "metadata": {},
     "output_type": "execute_result"
    }
   ],
   "source": [
    "# checking lengths\n",
    "len(rating)"
   ]
  },
  {
   "cell_type": "code",
   "execution_count": 56,
   "metadata": {},
   "outputs": [
    {
     "data": {
      "text/plain": [
       "100"
      ]
     },
     "execution_count": 56,
     "metadata": {},
     "output_type": "execute_result"
    }
   ],
   "source": [
    "len(summary)"
   ]
  },
  {
   "cell_type": "code",
   "execution_count": 57,
   "metadata": {},
   "outputs": [
    {
     "data": {
      "text/plain": [
       "100"
      ]
     },
     "execution_count": 57,
     "metadata": {},
     "output_type": "execute_result"
    }
   ],
   "source": [
    "len(fullrev)"
   ]
  },
  {
   "cell_type": "code",
   "execution_count": 58,
   "metadata": {},
   "outputs": [
    {
     "data": {
      "text/html": [
       "<div>\n",
       "<style scoped>\n",
       "    .dataframe tbody tr th:only-of-type {\n",
       "        vertical-align: middle;\n",
       "    }\n",
       "\n",
       "    .dataframe tbody tr th {\n",
       "        vertical-align: top;\n",
       "    }\n",
       "\n",
       "    .dataframe thead th {\n",
       "        text-align: right;\n",
       "    }\n",
       "</style>\n",
       "<table border=\"1\" class=\"dataframe\">\n",
       "  <thead>\n",
       "    <tr style=\"text-align: right;\">\n",
       "      <th></th>\n",
       "      <th>Rating</th>\n",
       "      <th>Review summary</th>\n",
       "      <th>Full review</th>\n",
       "    </tr>\n",
       "  </thead>\n",
       "  <tbody>\n",
       "    <tr>\n",
       "      <th>0</th>\n",
       "      <td>5</td>\n",
       "      <td>Brilliant</td>\n",
       "      <td>The Best Phone for the Money\\n\\nThe iPhone 11 ...</td>\n",
       "    </tr>\n",
       "    <tr>\n",
       "      <th>1</th>\n",
       "      <td>5</td>\n",
       "      <td>Perfect product!</td>\n",
       "      <td>Amazing phone with great cameras and better ba...</td>\n",
       "    </tr>\n",
       "    <tr>\n",
       "      <th>2</th>\n",
       "      <td>5</td>\n",
       "      <td>Worth every penny</td>\n",
       "      <td>Previously I was using one plus 3t it was a gr...</td>\n",
       "    </tr>\n",
       "    <tr>\n",
       "      <th>3</th>\n",
       "      <td>4</td>\n",
       "      <td>Good choice</td>\n",
       "      <td>So far it’s been an AMAZING experience coming ...</td>\n",
       "    </tr>\n",
       "    <tr>\n",
       "      <th>4</th>\n",
       "      <td>5</td>\n",
       "      <td>Great product</td>\n",
       "      <td>Amazing Powerful and Durable Gadget.\\n\\nI’m am...</td>\n",
       "    </tr>\n",
       "    <tr>\n",
       "      <th>...</th>\n",
       "      <td>...</td>\n",
       "      <td>...</td>\n",
       "      <td>...</td>\n",
       "    </tr>\n",
       "    <tr>\n",
       "      <th>95</th>\n",
       "      <td>5</td>\n",
       "      <td>Best in the market!</td>\n",
       "      <td>The best all rounder iphone. Flipkart is doing...</td>\n",
       "    </tr>\n",
       "    <tr>\n",
       "      <th>96</th>\n",
       "      <td>5</td>\n",
       "      <td>Terrific purchase</td>\n",
       "      <td>Well , as we all know if its not an Iphone , i...</td>\n",
       "    </tr>\n",
       "    <tr>\n",
       "      <th>97</th>\n",
       "      <td>5</td>\n",
       "      <td>Excellent</td>\n",
       "      <td>A perfect phone and a good battery super camer...</td>\n",
       "    </tr>\n",
       "    <tr>\n",
       "      <th>98</th>\n",
       "      <td>5</td>\n",
       "      <td>Fabulous!</td>\n",
       "      <td>Everything is perfect pictures come out so cle...</td>\n",
       "    </tr>\n",
       "    <tr>\n",
       "      <th>99</th>\n",
       "      <td>5</td>\n",
       "      <td>Wonderful</td>\n",
       "      <td>Nice value for money good and best price I pho...</td>\n",
       "    </tr>\n",
       "  </tbody>\n",
       "</table>\n",
       "<p>100 rows × 3 columns</p>\n",
       "</div>"
      ],
      "text/plain": [
       "   Rating       Review summary  \\\n",
       "0       5            Brilliant   \n",
       "1       5     Perfect product!   \n",
       "2       5    Worth every penny   \n",
       "3       4          Good choice   \n",
       "4       5        Great product   \n",
       "..    ...                  ...   \n",
       "95      5  Best in the market!   \n",
       "96      5    Terrific purchase   \n",
       "97      5            Excellent   \n",
       "98      5            Fabulous!   \n",
       "99      5            Wonderful   \n",
       "\n",
       "                                          Full review  \n",
       "0   The Best Phone for the Money\\n\\nThe iPhone 11 ...  \n",
       "1   Amazing phone with great cameras and better ba...  \n",
       "2   Previously I was using one plus 3t it was a gr...  \n",
       "3   So far it’s been an AMAZING experience coming ...  \n",
       "4   Amazing Powerful and Durable Gadget.\\n\\nI’m am...  \n",
       "..                                                ...  \n",
       "95  The best all rounder iphone. Flipkart is doing...  \n",
       "96  Well , as we all know if its not an Iphone , i...  \n",
       "97  A perfect phone and a good battery super camer...  \n",
       "98  Everything is perfect pictures come out so cle...  \n",
       "99  Nice value for money good and best price I pho...  \n",
       "\n",
       "[100 rows x 3 columns]"
      ]
     },
     "execution_count": 58,
     "metadata": {},
     "output_type": "execute_result"
    }
   ],
   "source": [
    "# Creating dataframe\n",
    "\n",
    "x= {'Rating':rating ,'Review summary': summary,'Full review': fullrev}\n",
    "df7= pd.DataFrame(x)\n",
    "df7"
   ]
  },
  {
   "cell_type": "markdown",
   "metadata": {},
   "source": [
    "# Task 8"
   ]
  },
  {
   "cell_type": "markdown",
   "metadata": {},
   "source": [
    "Q8: Scrape data for first 100 sneakers you find when you visit flipkart.com and\n",
    "    search for “sneakers” in the search field.\n",
    "    You have to scrape 4 attributes of each sneaker :\n",
    "    1. Brand\n",
    "    2. Product Description\n",
    "    3. Price\n",
    "    4. discount %"
   ]
  },
  {
   "cell_type": "code",
   "execution_count": 67,
   "metadata": {},
   "outputs": [],
   "source": [
    "# Giving the website to the driver.\n",
    "\n",
    "driver.get('https://www.flipkart.com')"
   ]
  },
  {
   "cell_type": "code",
   "execution_count": 68,
   "metadata": {},
   "outputs": [],
   "source": [
    "# finding element for search bar and writing on it.\n",
    "\n",
    "searchbar= driver.find_element_by_xpath(\"//div[@class='_3OO5Xc']/input\")\n",
    "searchbar.send_keys('sneakers')"
   ]
  },
  {
   "cell_type": "code",
   "execution_count": 69,
   "metadata": {},
   "outputs": [],
   "source": [
    "# finding element for search button and clicking on it\n",
    "\n",
    "search_btn= driver.find_element_by_class_name(\"L0Z3Pu\")\n",
    "search_btn.click()"
   ]
  },
  {
   "cell_type": "code",
   "execution_count": 70,
   "metadata": {},
   "outputs": [],
   "source": [
    "# creating lists to store data\n",
    "\n",
    "brand=[]\n",
    "product_dec=[]\n",
    "price=[]\n",
    "discount=[]"
   ]
  },
  {
   "cell_type": "code",
   "execution_count": 115,
   "metadata": {},
   "outputs": [],
   "source": [
    "# finding elements for all the data and extracting the texts.\n",
    "\n",
    "for i in range(0,3):\n",
    "    for j in driver.find_elements_by_xpath(\"//div[@class='_2WkVRV']\"):\n",
    "        brand.append(j.text)\n",
    "        \n",
    "    for k in driver.find_elements_by_xpath(\"//a[@class='IRpwTa']\"):\n",
    "        product_dec.append(k.text)\n",
    "        \n",
    "    for l in driver.find_elements_by_xpath(\"//div[@class='_30jeq3']\"):\n",
    "        price.append(l.text)\n",
    "        \n",
    "    for m in driver.find_elements_by_xpath(\"//div[@class='_3Ay6Sb']//span\"):\n",
    "        discount.append(m.text)\n",
    "        \n",
    "    driver.find_element_by_xpath(\"//span[contains(text(),'Next')]\").click()    # Clicking on the next button.\n",
    "    time.sleep(3)"
   ]
  },
  {
   "cell_type": "code",
   "execution_count": 117,
   "metadata": {},
   "outputs": [],
   "source": [
    "# arranging the lists\n",
    "\n",
    "brand= brand[0:100]\n",
    "product_dec= product_dec[0:100]\n",
    "price= price[0:100]\n",
    "discount= discount[0:100]"
   ]
  },
  {
   "cell_type": "code",
   "execution_count": 119,
   "metadata": {},
   "outputs": [
    {
     "data": {
      "text/html": [
       "<div>\n",
       "<style scoped>\n",
       "    .dataframe tbody tr th:only-of-type {\n",
       "        vertical-align: middle;\n",
       "    }\n",
       "\n",
       "    .dataframe tbody tr th {\n",
       "        vertical-align: top;\n",
       "    }\n",
       "\n",
       "    .dataframe thead th {\n",
       "        text-align: right;\n",
       "    }\n",
       "</style>\n",
       "<table border=\"1\" class=\"dataframe\">\n",
       "  <thead>\n",
       "    <tr style=\"text-align: right;\">\n",
       "      <th></th>\n",
       "      <th>Brand</th>\n",
       "      <th>Product description</th>\n",
       "      <th>Price</th>\n",
       "      <th>Discount</th>\n",
       "    </tr>\n",
       "  </thead>\n",
       "  <tbody>\n",
       "    <tr>\n",
       "      <th>0</th>\n",
       "      <td>Robbie jones</td>\n",
       "      <td>Casual Sneakers Shoes For Men Sneakers For Men</td>\n",
       "      <td>₹399</td>\n",
       "      <td>60% off</td>\n",
       "    </tr>\n",
       "    <tr>\n",
       "      <th>1</th>\n",
       "      <td>aadi</td>\n",
       "      <td>Sneakers For Men</td>\n",
       "      <td>₹298</td>\n",
       "      <td>70% off</td>\n",
       "    </tr>\n",
       "    <tr>\n",
       "      <th>2</th>\n",
       "      <td>Numenzo</td>\n",
       "      <td>Sneakers For Men</td>\n",
       "      <td>₹398</td>\n",
       "      <td>60% off</td>\n",
       "    </tr>\n",
       "    <tr>\n",
       "      <th>3</th>\n",
       "      <td>HOTSTYLE</td>\n",
       "      <td>Sneakers Sneakers For Men</td>\n",
       "      <td>₹283</td>\n",
       "      <td>43% off</td>\n",
       "    </tr>\n",
       "    <tr>\n",
       "      <th>4</th>\n",
       "      <td>Robbie jones</td>\n",
       "      <td>Sneakers For Men</td>\n",
       "      <td>₹474</td>\n",
       "      <td>52% off</td>\n",
       "    </tr>\n",
       "    <tr>\n",
       "      <th>...</th>\n",
       "      <td>...</td>\n",
       "      <td>...</td>\n",
       "      <td>...</td>\n",
       "      <td>...</td>\n",
       "    </tr>\n",
       "    <tr>\n",
       "      <th>95</th>\n",
       "      <td>tigonis</td>\n",
       "      <td>Sneakers For Men</td>\n",
       "      <td>₹399</td>\n",
       "      <td>57% off</td>\n",
       "    </tr>\n",
       "    <tr>\n",
       "      <th>96</th>\n",
       "      <td>Robbie jones</td>\n",
       "      <td>Sneakers For Men</td>\n",
       "      <td>₹428</td>\n",
       "      <td>8% off</td>\n",
       "    </tr>\n",
       "    <tr>\n",
       "      <th>97</th>\n",
       "      <td>KRAFTER</td>\n",
       "      <td>Sneakers For Men</td>\n",
       "      <td>₹458</td>\n",
       "      <td>17% off</td>\n",
       "    </tr>\n",
       "    <tr>\n",
       "      <th>98</th>\n",
       "      <td>KANEGGYE</td>\n",
       "      <td>Sneakers For Men</td>\n",
       "      <td>₹410</td>\n",
       "      <td>52% off</td>\n",
       "    </tr>\n",
       "    <tr>\n",
       "      <th>99</th>\n",
       "      <td>STRANGER BROTHERS</td>\n",
       "      <td>Sneakers For Men</td>\n",
       "      <td>₹474</td>\n",
       "      <td>53% off</td>\n",
       "    </tr>\n",
       "  </tbody>\n",
       "</table>\n",
       "<p>100 rows × 4 columns</p>\n",
       "</div>"
      ],
      "text/plain": [
       "                Brand                             Product description Price  \\\n",
       "0        Robbie jones  Casual Sneakers Shoes For Men Sneakers For Men  ₹399   \n",
       "1                aadi                                Sneakers For Men  ₹298   \n",
       "2             Numenzo                                Sneakers For Men  ₹398   \n",
       "3            HOTSTYLE                       Sneakers Sneakers For Men  ₹283   \n",
       "4        Robbie jones                                Sneakers For Men  ₹474   \n",
       "..                ...                                             ...   ...   \n",
       "95            tigonis                                Sneakers For Men  ₹399   \n",
       "96       Robbie jones                                Sneakers For Men  ₹428   \n",
       "97            KRAFTER                                Sneakers For Men  ₹458   \n",
       "98           KANEGGYE                                Sneakers For Men  ₹410   \n",
       "99  STRANGER BROTHERS                                Sneakers For Men  ₹474   \n",
       "\n",
       "   Discount  \n",
       "0   60% off  \n",
       "1   70% off  \n",
       "2   60% off  \n",
       "3   43% off  \n",
       "4   52% off  \n",
       "..      ...  \n",
       "95  57% off  \n",
       "96   8% off  \n",
       "97  17% off  \n",
       "98  52% off  \n",
       "99  53% off  \n",
       "\n",
       "[100 rows x 4 columns]"
      ]
     },
     "execution_count": 119,
     "metadata": {},
     "output_type": "execute_result"
    }
   ],
   "source": [
    "# Creating dataframe\n",
    "\n",
    "x= {'Brand':brand ,'Product description': product_dec,'Price': price, 'Discount': discount}\n",
    "df8= pd.DataFrame(x)\n",
    "df8"
   ]
  },
  {
   "cell_type": "markdown",
   "metadata": {},
   "source": [
    "# Task 9"
   ]
  },
  {
   "cell_type": "markdown",
   "metadata": {},
   "source": [
    "Q9: Go to the link - https://www.myntra.com/shoes\n",
    "    Set Price filter to “Rs. 6649 to Rs. 13099” , Color filter to “Black”, And then scrape First 100 shoes data you get.The data should include “Brand” of the shoes , Short Shoe description, price of the shoe.\n"
   ]
  },
  {
   "cell_type": "code",
   "execution_count": 59,
   "metadata": {},
   "outputs": [],
   "source": [
    "# Giving the website to the driver.\n",
    "\n",
    "driver.get('https://www.myntra.com/shoes')"
   ]
  },
  {
   "cell_type": "code",
   "execution_count": 63,
   "metadata": {},
   "outputs": [],
   "source": [
    "# Clicking on checkbox for filtering\n",
    "\n",
    "price_check= driver.find_elements_by_xpath(\"//label[@class='common-customCheckbox vertical-filters-label']\")\n",
    "price_check[7].click()"
   ]
  },
  {
   "cell_type": "code",
   "execution_count": 61,
   "metadata": {},
   "outputs": [],
   "source": [
    "color_check= driver.find_element_by_xpath(\"//li[@class='colour-listItem']\")\n",
    "color_check.click()"
   ]
  },
  {
   "cell_type": "code",
   "execution_count": 64,
   "metadata": {},
   "outputs": [],
   "source": [
    "# creating lists to store data\n",
    "\n",
    "brand=[]\n",
    "description=[]\n",
    "price=[]"
   ]
  },
  {
   "cell_type": "code",
   "execution_count": 65,
   "metadata": {},
   "outputs": [],
   "source": [
    "# finding elements for all the data and extracting the texts.\n",
    "\n",
    "for i in range(0,2):\n",
    "    for j in driver.find_elements_by_xpath(\"//h3[@class='product-brand']\"):\n",
    "        brand.append(j.text)\n",
    "        \n",
    "    for k in driver.find_elements_by_xpath(\"//h4[@class='product-product']\"):\n",
    "        description.append(k.text)\n",
    "        \n",
    "    for l in driver.find_elements_by_xpath(\"//div[@class='product-price']\"):\n",
    "        price.append(l.text)\n",
    "        \n",
    "    driver.find_element_by_xpath(\"//a[contains(text(),'Next')]\").click()    # Clicking on the next button.\n",
    "    time.sleep(3)"
   ]
  },
  {
   "cell_type": "code",
   "execution_count": 66,
   "metadata": {},
   "outputs": [
    {
     "data": {
      "text/html": [
       "<div>\n",
       "<style scoped>\n",
       "    .dataframe tbody tr th:only-of-type {\n",
       "        vertical-align: middle;\n",
       "    }\n",
       "\n",
       "    .dataframe tbody tr th {\n",
       "        vertical-align: top;\n",
       "    }\n",
       "\n",
       "    .dataframe thead th {\n",
       "        text-align: right;\n",
       "    }\n",
       "</style>\n",
       "<table border=\"1\" class=\"dataframe\">\n",
       "  <thead>\n",
       "    <tr style=\"text-align: right;\">\n",
       "      <th></th>\n",
       "      <th>Brand</th>\n",
       "      <th>Product description</th>\n",
       "      <th>Price</th>\n",
       "    </tr>\n",
       "  </thead>\n",
       "  <tbody>\n",
       "    <tr>\n",
       "      <th>0</th>\n",
       "      <td>Puma</td>\n",
       "      <td>Men Velocity Nitro Running</td>\n",
       "      <td>Rs. 10999</td>\n",
       "    </tr>\n",
       "    <tr>\n",
       "      <th>1</th>\n",
       "      <td>Nike</td>\n",
       "      <td>Men JOYRIDE Running Shoes</td>\n",
       "      <td>Rs. 10496Rs. 14995(30% OFF)</td>\n",
       "    </tr>\n",
       "    <tr>\n",
       "      <th>2</th>\n",
       "      <td>Nike</td>\n",
       "      <td>Men JORDAN DELTA Basketball</td>\n",
       "      <td>Rs. 12495</td>\n",
       "    </tr>\n",
       "    <tr>\n",
       "      <th>3</th>\n",
       "      <td>Nike</td>\n",
       "      <td>AIR ZOOM PEGASUS Running Shoes</td>\n",
       "      <td>Rs. 11495</td>\n",
       "    </tr>\n",
       "    <tr>\n",
       "      <th>4</th>\n",
       "      <td>PUMA Motorsport</td>\n",
       "      <td>Unisex Mercedes Running Shoes</td>\n",
       "      <td>Rs. 7999</td>\n",
       "    </tr>\n",
       "    <tr>\n",
       "      <th>...</th>\n",
       "      <td>...</td>\n",
       "      <td>...</td>\n",
       "      <td>...</td>\n",
       "    </tr>\n",
       "    <tr>\n",
       "      <th>95</th>\n",
       "      <td>Saint G</td>\n",
       "      <td>Leather Heeled Boots</td>\n",
       "      <td>Rs. 11800</td>\n",
       "    </tr>\n",
       "    <tr>\n",
       "      <th>96</th>\n",
       "      <td>FILA</td>\n",
       "      <td>Women Solid Sneakers</td>\n",
       "      <td>Rs. 6999</td>\n",
       "    </tr>\n",
       "    <tr>\n",
       "      <th>97</th>\n",
       "      <td>Nike</td>\n",
       "      <td>Women AIR MAX VIVA Sneakers</td>\n",
       "      <td>Rs. 12495</td>\n",
       "    </tr>\n",
       "    <tr>\n",
       "      <th>98</th>\n",
       "      <td>Kenneth Cole</td>\n",
       "      <td>Women Solid Flat Boots</td>\n",
       "      <td>Rs. 9513Rs. 13590(30% OFF)</td>\n",
       "    </tr>\n",
       "    <tr>\n",
       "      <th>99</th>\n",
       "      <td>ADIDAS</td>\n",
       "      <td>Men Supernova Running Shoes</td>\n",
       "      <td>Rs. 7999Rs. 9999(20% OFF)</td>\n",
       "    </tr>\n",
       "  </tbody>\n",
       "</table>\n",
       "<p>100 rows × 3 columns</p>\n",
       "</div>"
      ],
      "text/plain": [
       "              Brand             Product description  \\\n",
       "0              Puma      Men Velocity Nitro Running   \n",
       "1              Nike       Men JOYRIDE Running Shoes   \n",
       "2              Nike     Men JORDAN DELTA Basketball   \n",
       "3              Nike  AIR ZOOM PEGASUS Running Shoes   \n",
       "4   PUMA Motorsport   Unisex Mercedes Running Shoes   \n",
       "..              ...                             ...   \n",
       "95          Saint G            Leather Heeled Boots   \n",
       "96             FILA            Women Solid Sneakers   \n",
       "97             Nike     Women AIR MAX VIVA Sneakers   \n",
       "98     Kenneth Cole          Women Solid Flat Boots   \n",
       "99           ADIDAS     Men Supernova Running Shoes   \n",
       "\n",
       "                          Price  \n",
       "0                     Rs. 10999  \n",
       "1   Rs. 10496Rs. 14995(30% OFF)  \n",
       "2                     Rs. 12495  \n",
       "3                     Rs. 11495  \n",
       "4                      Rs. 7999  \n",
       "..                          ...  \n",
       "95                    Rs. 11800  \n",
       "96                     Rs. 6999  \n",
       "97                    Rs. 12495  \n",
       "98   Rs. 9513Rs. 13590(30% OFF)  \n",
       "99    Rs. 7999Rs. 9999(20% OFF)  \n",
       "\n",
       "[100 rows x 3 columns]"
      ]
     },
     "execution_count": 66,
     "metadata": {},
     "output_type": "execute_result"
    }
   ],
   "source": [
    "# Creating dataframe\n",
    "\n",
    "x= {'Brand':brand ,'Product description': description,'Price': price}\n",
    "df9= pd.DataFrame(x)\n",
    "df9"
   ]
  },
  {
   "cell_type": "markdown",
   "metadata": {},
   "source": [
    "# Task 10"
   ]
  },
  {
   "cell_type": "markdown",
   "metadata": {},
   "source": [
    "Q10: Go to webpage https://www.amazon.in/ Enter “Laptop” in the search field and then click the search icon.\n",
    "     Then set CPU Type filter to “Intel Core i7” and “Intel Core i9”.After setting the filters scrape first 10 laptops\n",
    "     data. You have to scrape 3 attributes\n",
    "     for each laptop:\n",
    "     1. title\n",
    "     2. Ratings\n",
    "     3. Price"
   ]
  },
  {
   "cell_type": "code",
   "execution_count": 63,
   "metadata": {},
   "outputs": [],
   "source": [
    "# Giving the website to the driver.\n",
    "\n",
    "driver.get('https://www.amazon.in/')"
   ]
  },
  {
   "cell_type": "code",
   "execution_count": 64,
   "metadata": {},
   "outputs": [],
   "source": [
    "# finding element for search bar and writing on it.\n",
    "\n",
    "search_bar= driver.find_element_by_id(\"twotabsearchtextbox\")\n",
    "search_bar.send_keys('Laptop')"
   ]
  },
  {
   "cell_type": "code",
   "execution_count": 65,
   "metadata": {},
   "outputs": [],
   "source": [
    "# finding element for search button and clicking on it\n",
    "\n",
    "search_btn= driver.find_element_by_id(\"nav-search-submit-button\")\n",
    "search_btn.click()"
   ]
  },
  {
   "cell_type": "code",
   "execution_count": 66,
   "metadata": {},
   "outputs": [],
   "source": [
    "# Clicking on checkbox for filtering\n",
    "\n",
    "cpu_check= driver.find_elements_by_xpath(\"//a[@class='a-link-normal s-navigation-item']\")\n",
    "for i in cpu_check:\n",
    "    if i.text== 'Intel Core i7':\n",
    "        i.click()\n",
    "        break"
   ]
  },
  {
   "cell_type": "code",
   "execution_count": 67,
   "metadata": {},
   "outputs": [],
   "source": [
    "# Fetching urls of individual laptop pages.\n",
    "\n",
    "urls=[]\n",
    "for i in driver.find_elements_by_xpath(\"//a[@class='a-link-normal a-text-normal']\"):\n",
    "    urls.append(i.get_attribute('href'))"
   ]
  },
  {
   "cell_type": "code",
   "execution_count": 68,
   "metadata": {},
   "outputs": [],
   "source": [
    "# Keeping the top 10 urls\n",
    "\n",
    "urls= urls[0:10]"
   ]
  },
  {
   "cell_type": "code",
   "execution_count": 69,
   "metadata": {},
   "outputs": [],
   "source": [
    "# creating list to store data.\n",
    "\n",
    "title=[]\n",
    "price=[]\n",
    "rating=[]"
   ]
  },
  {
   "cell_type": "code",
   "execution_count": 70,
   "metadata": {},
   "outputs": [],
   "source": [
    "# Finding elements for all the product details and fetching them.\n",
    "\n",
    "for i in urls:\n",
    "    driver.get(i)\n",
    "    time.sleep(3)\n",
    "    try:\n",
    "        t= driver.find_element_by_id(\"productTitle\")\n",
    "        title.append(t.text)\n",
    "    except NoSuchElementException:\n",
    "        title.append('NaN')\n",
    "        \n",
    "    try:\n",
    "        p= driver.find_element_by_xpath(\"//td[@class='a-span12']//span\")\n",
    "        price.append(p.text)\n",
    "    except NoSuchElementException:\n",
    "        price.append('NaN')\n",
    "        \n",
    "    try:\n",
    "        r= driver.find_element_by_xpath(\"//span[@class='a-size-medium a-color-base']\")\n",
    "        rating.append(r.text)\n",
    "    except NoSuchElementException:\n",
    "        rating.append('NaN')"
   ]
  },
  {
   "cell_type": "code",
   "execution_count": 74,
   "metadata": {},
   "outputs": [],
   "source": [
    "# Going back to all laptop page to set filter again.\n",
    "\n",
    "search_btn= driver.find_element_by_id(\"nav-search-submit-button\")\n",
    "search_btn.click()"
   ]
  },
  {
   "cell_type": "code",
   "execution_count": 75,
   "metadata": {},
   "outputs": [],
   "source": [
    "# Clicking on checkbox for filtering\n",
    "\n",
    "cpu_check= driver.find_elements_by_xpath(\"//a[@class='a-link-normal s-navigation-item']\")\n",
    "for i in cpu_check:\n",
    "    if i.text== 'Intel Core i9':\n",
    "        i.click()\n",
    "        break"
   ]
  },
  {
   "cell_type": "code",
   "execution_count": 76,
   "metadata": {},
   "outputs": [],
   "source": [
    "# Fetching urls of all the laptops\n",
    "\n",
    "urls=[]\n",
    "for i in driver.find_elements_by_xpath(\"//a[@class='a-link-normal a-text-normal']\"):\n",
    "    urls.append(i.get_attribute('href'))"
   ]
  },
  {
   "cell_type": "code",
   "execution_count": 77,
   "metadata": {},
   "outputs": [],
   "source": [
    "# creating list to store data.\n",
    "\n",
    "title2=[]\n",
    "price2=[]\n",
    "rating2=[]"
   ]
  },
  {
   "cell_type": "code",
   "execution_count": 78,
   "metadata": {},
   "outputs": [],
   "source": [
    "# fetching all i9 laptop details.\n",
    "\n",
    "for i in urls:\n",
    "    driver.get(i)\n",
    "    time.sleep(3)\n",
    "    try:\n",
    "        t= driver.find_element_by_id(\"productTitle\")\n",
    "        title2.append(t.text)\n",
    "    except NoSuchElementException:\n",
    "        title.append('NaN')\n",
    "        \n",
    "    try:\n",
    "        p= driver.find_element_by_xpath(\"//td[@class='a-span12']//span\")\n",
    "        price2.append(p.text)\n",
    "    except NoSuchElementException:\n",
    "        price.append('NaN')\n",
    "        \n",
    "    try:\n",
    "        r= driver.find_element_by_xpath(\"//span[@class='a-size-medium a-color-base']\")\n",
    "        rating2.append(r.text)\n",
    "    except NoSuchElementException:\n",
    "        rating.append('NaN')"
   ]
  },
  {
   "cell_type": "code",
   "execution_count": 86,
   "metadata": {},
   "outputs": [],
   "source": [
    "# Merging the i7 and i9 lists together. \n",
    "\n",
    "title_i7_i9= title+ title2\n",
    "price_i7_i9= price+ price2\n",
    "rating_i7_i9= rating+ rating2"
   ]
  },
  {
   "cell_type": "code",
   "execution_count": 87,
   "metadata": {},
   "outputs": [
    {
     "data": {
      "text/html": [
       "<div>\n",
       "<style scoped>\n",
       "    .dataframe tbody tr th:only-of-type {\n",
       "        vertical-align: middle;\n",
       "    }\n",
       "\n",
       "    .dataframe tbody tr th {\n",
       "        vertical-align: top;\n",
       "    }\n",
       "\n",
       "    .dataframe thead th {\n",
       "        text-align: right;\n",
       "    }\n",
       "</style>\n",
       "<table border=\"1\" class=\"dataframe\">\n",
       "  <thead>\n",
       "    <tr style=\"text-align: right;\">\n",
       "      <th></th>\n",
       "      <th>Name</th>\n",
       "      <th>Price</th>\n",
       "      <th>Rating</th>\n",
       "    </tr>\n",
       "  </thead>\n",
       "  <tbody>\n",
       "    <tr>\n",
       "      <th>0</th>\n",
       "      <td>Asus ROG Zephyrus S Ultra Slim Gaming Laptop, ...</td>\n",
       "      <td>₹ 3,43,099.00</td>\n",
       "      <td>5 out of 5</td>\n",
       "    </tr>\n",
       "    <tr>\n",
       "      <th>1</th>\n",
       "      <td>HP 14 Thin &amp; Light 14\" (35.56cms) FHD Laptop (...</td>\n",
       "      <td>NaN</td>\n",
       "      <td>4.7 out of 5</td>\n",
       "    </tr>\n",
       "    <tr>\n",
       "      <th>2</th>\n",
       "      <td>Lenovo IdeaPad 3 Laptop, 15.6\" HD Touch Screen...</td>\n",
       "      <td>₹ 99,138.00</td>\n",
       "      <td>5 out of 5</td>\n",
       "    </tr>\n",
       "    <tr>\n",
       "      <th>3</th>\n",
       "      <td>HP OMEN 17 17.3\" Gaming Laptop 144Hz i7-10750H...</td>\n",
       "      <td>₹ 1,85,802.00</td>\n",
       "      <td>NaN</td>\n",
       "    </tr>\n",
       "    <tr>\n",
       "      <th>4</th>\n",
       "      <td>2019 HP 17.3\" HD+ Touchscreen Laptop Computer</td>\n",
       "      <td>₹ 2,01,524.00</td>\n",
       "      <td>4.5 out of 5</td>\n",
       "    </tr>\n",
       "    <tr>\n",
       "      <th>5</th>\n",
       "      <td>(Renewed) Lenovo Intel 4th Gen Core i7-4980HQ ...</td>\n",
       "      <td>₹ 46,290.00</td>\n",
       "      <td>3 out of 5</td>\n",
       "    </tr>\n",
       "    <tr>\n",
       "      <th>6</th>\n",
       "      <td>Lenovo ThinkPad P53s Workstation Laptop (Intel...</td>\n",
       "      <td>₹ 2,09,159.00</td>\n",
       "      <td>4.1 out of 5</td>\n",
       "    </tr>\n",
       "    <tr>\n",
       "      <th>7</th>\n",
       "      <td>(Renewed) Dell Intel 6th Gen Core i7-6820HQ 15...</td>\n",
       "      <td>₹ 61,799.00</td>\n",
       "      <td>NaN</td>\n",
       "    </tr>\n",
       "    <tr>\n",
       "      <th>8</th>\n",
       "      <td>HP Elitebook X360 830 G6 13.3-inch Laptop (8th...</td>\n",
       "      <td>₹ 99,990.00</td>\n",
       "      <td>NaN</td>\n",
       "    </tr>\n",
       "    <tr>\n",
       "      <th>9</th>\n",
       "      <td>Lenovo Ideapad 720s Intel Core i7 8th Gen 13.3...</td>\n",
       "      <td>₹ 89,990.00</td>\n",
       "      <td>3.1 out of 5</td>\n",
       "    </tr>\n",
       "    <tr>\n",
       "      <th>10</th>\n",
       "      <td>ASUS ROG Strix Scar 15 (2020), 15.6\" FHD 300Hz...</td>\n",
       "      <td>₹ 2,14,990.00</td>\n",
       "      <td>NaN</td>\n",
       "    </tr>\n",
       "    <tr>\n",
       "      <th>11</th>\n",
       "      <td>Lenovo Legion 7i 10thGen Intel i9 15.6\" FHD Ga...</td>\n",
       "      <td>₹ 2,65,788.00</td>\n",
       "      <td>1 out of 5</td>\n",
       "    </tr>\n",
       "    <tr>\n",
       "      <th>12</th>\n",
       "      <td>(Renewed) Dell XPS 9570 Laptop|i9-8950HK|32GB ...</td>\n",
       "      <td>₹ 1,89,900.00</td>\n",
       "      <td>3.7 out of 5</td>\n",
       "    </tr>\n",
       "    <tr>\n",
       "      <th>13</th>\n",
       "      <td>HP Z4 Workstation, Intel Core i9-7900X, RAM 32...</td>\n",
       "      <td>₹ 2,69,900.00</td>\n",
       "      <td>5 out of 5</td>\n",
       "    </tr>\n",
       "    <tr>\n",
       "      <th>14</th>\n",
       "      <td>Apple MacBook Pro (16-inch, 16GB RAM, 1TB Stor...</td>\n",
       "      <td>₹ 2,15,990.00</td>\n",
       "      <td>4.2 out of 5</td>\n",
       "    </tr>\n",
       "    <tr>\n",
       "      <th>15</th>\n",
       "      <td>Asus ROG Zephyrus S Ultra Slim Gaming Laptop</td>\n",
       "      <td>₹ 3,66,689.00</td>\n",
       "      <td>4 out of 5</td>\n",
       "    </tr>\n",
       "  </tbody>\n",
       "</table>\n",
       "</div>"
      ],
      "text/plain": [
       "                                                 Name          Price  \\\n",
       "0   Asus ROG Zephyrus S Ultra Slim Gaming Laptop, ...  ₹ 3,43,099.00   \n",
       "1   HP 14 Thin & Light 14\" (35.56cms) FHD Laptop (...            NaN   \n",
       "2   Lenovo IdeaPad 3 Laptop, 15.6\" HD Touch Screen...    ₹ 99,138.00   \n",
       "3   HP OMEN 17 17.3\" Gaming Laptop 144Hz i7-10750H...  ₹ 1,85,802.00   \n",
       "4       2019 HP 17.3\" HD+ Touchscreen Laptop Computer  ₹ 2,01,524.00   \n",
       "5   (Renewed) Lenovo Intel 4th Gen Core i7-4980HQ ...    ₹ 46,290.00   \n",
       "6   Lenovo ThinkPad P53s Workstation Laptop (Intel...  ₹ 2,09,159.00   \n",
       "7   (Renewed) Dell Intel 6th Gen Core i7-6820HQ 15...    ₹ 61,799.00   \n",
       "8   HP Elitebook X360 830 G6 13.3-inch Laptop (8th...    ₹ 99,990.00   \n",
       "9   Lenovo Ideapad 720s Intel Core i7 8th Gen 13.3...    ₹ 89,990.00   \n",
       "10  ASUS ROG Strix Scar 15 (2020), 15.6\" FHD 300Hz...  ₹ 2,14,990.00   \n",
       "11  Lenovo Legion 7i 10thGen Intel i9 15.6\" FHD Ga...  ₹ 2,65,788.00   \n",
       "12  (Renewed) Dell XPS 9570 Laptop|i9-8950HK|32GB ...  ₹ 1,89,900.00   \n",
       "13  HP Z4 Workstation, Intel Core i9-7900X, RAM 32...  ₹ 2,69,900.00   \n",
       "14  Apple MacBook Pro (16-inch, 16GB RAM, 1TB Stor...  ₹ 2,15,990.00   \n",
       "15       Asus ROG Zephyrus S Ultra Slim Gaming Laptop  ₹ 3,66,689.00   \n",
       "\n",
       "          Rating  \n",
       "0     5 out of 5  \n",
       "1   4.7 out of 5  \n",
       "2     5 out of 5  \n",
       "3            NaN  \n",
       "4   4.5 out of 5  \n",
       "5     3 out of 5  \n",
       "6   4.1 out of 5  \n",
       "7            NaN  \n",
       "8            NaN  \n",
       "9   3.1 out of 5  \n",
       "10           NaN  \n",
       "11    1 out of 5  \n",
       "12  3.7 out of 5  \n",
       "13    5 out of 5  \n",
       "14  4.2 out of 5  \n",
       "15    4 out of 5  "
      ]
     },
     "execution_count": 87,
     "metadata": {},
     "output_type": "execute_result"
    }
   ],
   "source": [
    "# Creating dataframe\n",
    "\n",
    "x= {'Name':title_i7_i9 ,'Price': price_i7_i9,'Rating': rating_i7_i9}\n",
    "df10= pd.DataFrame(x)\n",
    "df10"
   ]
  },
  {
   "cell_type": "code",
   "execution_count": null,
   "metadata": {},
   "outputs": [],
   "source": []
  }
 ],
 "metadata": {
  "kernelspec": {
   "display_name": "Python 3",
   "language": "python",
   "name": "python3"
  },
  "language_info": {
   "codemirror_mode": {
    "name": "ipython",
    "version": 3
   },
   "file_extension": ".py",
   "mimetype": "text/x-python",
   "name": "python",
   "nbconvert_exporter": "python",
   "pygments_lexer": "ipython3",
   "version": "3.8.3"
  }
 },
 "nbformat": 4,
 "nbformat_minor": 4
}
